{
 "cells": [
  {
   "cell_type": "code",
   "execution_count": 5,
   "id": "eef8da4c",
   "metadata": {},
   "outputs": [],
   "source": [
    "# 넘파이 불러오기\n",
    "import numpy as np"
   ]
  },
  {
   "cell_type": "code",
   "execution_count": 2,
   "id": "c0419600",
   "metadata": {},
   "outputs": [
    {
     "data": {
      "text/plain": [
       "array(1)"
      ]
     },
     "execution_count": 2,
     "metadata": {},
     "output_type": "execute_result"
    }
   ],
   "source": [
    "a = np.array(1)\n",
    "a"
   ]
  },
  {
   "cell_type": "code",
   "execution_count": 3,
   "id": "0dff8c53",
   "metadata": {},
   "outputs": [
    {
     "name": "stdout",
     "output_type": "stream",
     "text": [
      "[1 2 3]\n"
     ]
    }
   ],
   "source": [
    "ndarr_1 = np.array([1,2,3])\n",
    "print(ndarr_1)"
   ]
  },
  {
   "cell_type": "code",
   "execution_count": 4,
   "id": "ad5673f2",
   "metadata": {},
   "outputs": [
    {
     "name": "stdout",
     "output_type": "stream",
     "text": [
      "[1. 2. 3.]\n"
     ]
    }
   ],
   "source": [
    "ndarr_2 = np.array([1,2.0,3])\n",
    "print(ndarr_2)"
   ]
  },
  {
   "cell_type": "code",
   "execution_count": 5,
   "id": "c9244dd6",
   "metadata": {},
   "outputs": [
    {
     "name": "stdout",
     "output_type": "stream",
     "text": [
      "['1' '2.0' '3']\n"
     ]
    }
   ],
   "source": [
    "# 모두 가장 상위 자료형으로 변환\n",
    "ndarr_3 = np.array([1,2.0,'3'])\n",
    "print(ndarr_3)"
   ]
  },
  {
   "cell_type": "code",
   "execution_count": 7,
   "id": "6234ae5b",
   "metadata": {},
   "outputs": [
    {
     "name": "stdout",
     "output_type": "stream",
     "text": [
      "int32\n",
      "float64\n",
      "<U32\n"
     ]
    }
   ],
   "source": [
    "# 타입확인\n",
    "print(ndarr_1.dtype)\n",
    "print(ndarr_2.dtype)\n",
    "print(ndarr_3.dtype)"
   ]
  },
  {
   "cell_type": "code",
   "execution_count": 8,
   "id": "1b6f581c",
   "metadata": {},
   "outputs": [
    {
     "name": "stdout",
     "output_type": "stream",
     "text": [
      "complex128\n",
      "object\n"
     ]
    }
   ],
   "source": [
    "print(np.array(1+2j).dtype)\n",
    "print(np.array(print).dtype)"
   ]
  },
  {
   "cell_type": "code",
   "execution_count": 11,
   "id": "4ee19729",
   "metadata": {},
   "outputs": [
    {
     "name": "stdout",
     "output_type": "stream",
     "text": [
      "(3,)\n",
      "1\n"
     ]
    }
   ],
   "source": [
    "print(ndarr_1.shape)  # 배열 크기\n",
    "print(ndarr_1.ndim)   # 배열 차원"
   ]
  },
  {
   "cell_type": "code",
   "execution_count": 13,
   "id": "67d8c510",
   "metadata": {},
   "outputs": [
    {
     "name": "stdout",
     "output_type": "stream",
     "text": [
      "[[1 2 3]\n",
      " [4 5 6]]\n",
      "(2, 3)\n",
      "2\n",
      "int32\n"
     ]
    }
   ],
   "source": [
    "# 2차원\n",
    "matrix = np.array([[1,2,3],[4,5,6]])\n",
    "print(matrix)\n",
    "print(matrix.shape)\n",
    "print(matrix.ndim)\n",
    "print(matrix.dtype)"
   ]
  },
  {
   "cell_type": "code",
   "execution_count": 6,
   "id": "964978be",
   "metadata": {},
   "outputs": [
    {
     "name": "stdout",
     "output_type": "stream",
     "text": [
      "[[[ 1  2  3]\n",
      "  [ 4  5  6]]\n",
      "\n",
      " [[ 7  8  9]\n",
      "  [10 11 12]]]\n",
      "(2, 2, 3)\n",
      "3\n",
      "int32\n",
      "12\n"
     ]
    }
   ],
   "source": [
    "# 3차원\n",
    "tensor = np.array([[[1,2,3],[4,5,6]],[[7,8,9],[10,11,12]]])  # ,dtype =float\n",
    "print(tensor)\n",
    "print(tensor.shape)\n",
    "print(tensor.ndim)\n",
    "print(tensor.dtype)\n",
    "print(tensor.size)  # 요소 수"
   ]
  },
  {
   "cell_type": "code",
   "execution_count": 18,
   "id": "3bc984c8",
   "metadata": {},
   "outputs": [
    {
     "data": {
      "text/plain": [
       "[array([[1., 2., 3.],\n",
       "        [4., 5., 6.]]),\n",
       " array([[ 7.,  8.,  9.],\n",
       "        [10., 11., 12.]])]"
      ]
     },
     "execution_count": 18,
     "metadata": {},
     "output_type": "execute_result"
    }
   ],
   "source": [
    "list(tensor)"
   ]
  },
  {
   "cell_type": "code",
   "execution_count": 20,
   "id": "b3c7c7b7",
   "metadata": {},
   "outputs": [
    {
     "data": {
      "text/plain": [
       "[[1, 2, 3], [4, 5, 6]]"
      ]
     },
     "execution_count": 20,
     "metadata": {},
     "output_type": "execute_result"
    }
   ],
   "source": [
    "# 리스트로 변환\n",
    "list(map(list,list(matrix)))"
   ]
  },
  {
   "cell_type": "code",
   "execution_count": 21,
   "id": "3c633d00",
   "metadata": {},
   "outputs": [
    {
     "data": {
      "text/plain": [
       "[[[1.0, 2.0, 3.0], [4.0, 5.0, 6.0]], [[7.0, 8.0, 9.0], [10.0, 11.0, 12.0]]]"
      ]
     },
     "execution_count": 21,
     "metadata": {},
     "output_type": "execute_result"
    }
   ],
   "source": [
    "tensor.tolist()"
   ]
  },
  {
   "cell_type": "markdown",
   "id": "a3d27472",
   "metadata": {},
   "source": [
    "shape 다른 리스트 > 넘파이 \n",
    "변환시 오류 주의"
   ]
  },
  {
   "cell_type": "code",
   "execution_count": 22,
   "id": "9c5a5de7",
   "metadata": {},
   "outputs": [
    {
     "data": {
      "text/plain": [
       "{1, 2, 3}"
      ]
     },
     "execution_count": 22,
     "metadata": {},
     "output_type": "execute_result"
    }
   ],
   "source": [
    "# 세트 {}\n",
    "{1,1,2,2,3}"
   ]
  },
  {
   "cell_type": "code",
   "execution_count": 25,
   "id": "f1c1f3e4",
   "metadata": {},
   "outputs": [
    {
     "data": {
      "text/plain": [
       "array([1, 2, 3])"
      ]
     },
     "execution_count": 25,
     "metadata": {},
     "output_type": "execute_result"
    }
   ],
   "source": [
    "# 넘파이 변환시 리스트화\n",
    "np.array(list({1,1,2,3,2}))"
   ]
  },
  {
   "cell_type": "code",
   "execution_count": 31,
   "id": "833158d5",
   "metadata": {},
   "outputs": [
    {
     "name": "stdout",
     "output_type": "stream",
     "text": [
      "3\n"
     ]
    }
   ],
   "source": [
    "list_ = [[[1,2],[3,4]],[[5,6],[7,8]]]\n",
    "print(list_[0][1][0])"
   ]
  },
  {
   "cell_type": "markdown",
   "id": "a73117d5",
   "metadata": {},
   "source": [
    "# 배열인덱싱"
   ]
  },
  {
   "cell_type": "code",
   "execution_count": 32,
   "id": "3e1fd752",
   "metadata": {},
   "outputs": [],
   "source": [
    "arr_1=np.array([[1,2],\n",
    "                [3,4],\n",
    "                [5,6]])"
   ]
  },
  {
   "cell_type": "code",
   "execution_count": 51,
   "id": "bd10b44a",
   "metadata": {},
   "outputs": [
    {
     "name": "stdout",
     "output_type": "stream",
     "text": [
      "1: [[1 2]]\n",
      "2: [[1 2]\n",
      " [5 6]]\n"
     ]
    }
   ],
   "source": [
    "print('1:' ,arr_1[[0]])\n",
    "print('2:' ,arr_1[[0,2]])"
   ]
  },
  {
   "cell_type": "code",
   "execution_count": 49,
   "id": "e36620d3",
   "metadata": {},
   "outputs": [
    {
     "name": "stdout",
     "output_type": "stream",
     "text": [
      "3: [1 4 5]\n",
      "3: [[1 2]\n",
      " [3 4]\n",
      " [5 6]]\n",
      "3: [[1 2]\n",
      " [3 4]\n",
      " [1 2]]\n"
     ]
    }
   ],
   "source": [
    "# [x,y,z],[1,2,3] x의1번째 y의2번째 z의3번째 \n",
    "print('3:' ,arr_1[[0,1,2],[0,1,0]])\n",
    "print('3:' ,arr_1[[0,1,2]])\n",
    "print('3:' ,arr_1[[0,1,0]])"
   ]
  },
  {
   "cell_type": "code",
   "execution_count": 50,
   "id": "40e3bc68",
   "metadata": {},
   "outputs": [
    {
     "name": "stdout",
     "output_type": "stream",
     "text": [
      "4: [2 2]\n",
      "4: [[1 2]\n",
      " [1 2]]\n"
     ]
    }
   ],
   "source": [
    "print('4:' ,arr_1[[0,0],[1,1]])\n",
    "print('4:' ,arr_1[[0,0]])"
   ]
  },
  {
   "cell_type": "code",
   "execution_count": 52,
   "id": "0b101406",
   "metadata": {},
   "outputs": [],
   "source": [
    "arr_2=np.array([[1,2,3],[4,5,6],[7,8,9],[10,11,12]])"
   ]
  },
  {
   "cell_type": "code",
   "execution_count": 54,
   "id": "3b4b5c25",
   "metadata": {},
   "outputs": [],
   "source": [
    "b=np.array([0,1,2,3])"
   ]
  },
  {
   "cell_type": "code",
   "execution_count": 55,
   "id": "b619095a",
   "metadata": {},
   "outputs": [],
   "source": [
    "c=np.array([0,2,0,1])"
   ]
  },
  {
   "cell_type": "code",
   "execution_count": 56,
   "id": "c32b2327",
   "metadata": {},
   "outputs": [
    {
     "name": "stdout",
     "output_type": "stream",
     "text": [
      "[ 1  6  7 11]\n"
     ]
    }
   ],
   "source": [
    "print(arr_2[b,c])"
   ]
  },
  {
   "cell_type": "code",
   "execution_count": 60,
   "id": "8f12a637",
   "metadata": {},
   "outputs": [],
   "source": [
    "arr=np.array([1,2,3,4,5])"
   ]
  },
  {
   "cell_type": "code",
   "execution_count": 61,
   "id": "dd165501",
   "metadata": {},
   "outputs": [
    {
     "name": "stdout",
     "output_type": "stream",
     "text": [
      "[1 3 4]\n"
     ]
    }
   ],
   "source": [
    "print(arr[[True,False,True,True,False]])"
   ]
  },
  {
   "cell_type": "code",
   "execution_count": 62,
   "id": "b4ebcf7f",
   "metadata": {},
   "outputs": [
    {
     "name": "stdout",
     "output_type": "stream",
     "text": [
      "[3 4 5]\n"
     ]
    }
   ],
   "source": [
    "print(arr[arr>=3])"
   ]
  },
  {
   "cell_type": "code",
   "execution_count": 64,
   "id": "590efb34",
   "metadata": {},
   "outputs": [
    {
     "data": {
      "text/plain": [
       "array([[78, 91, 84, 89, 93, 65],\n",
       "       [82, 87, 96, 79, 91, 73]])"
      ]
     },
     "execution_count": 64,
     "metadata": {},
     "output_type": "execute_result"
    }
   ],
   "source": [
    "score =np.array([[78,91,84,89,93,65],[82,87,96,79,91,73]])\n",
    "score"
   ]
  },
  {
   "cell_type": "code",
   "execution_count": 75,
   "id": "25979ecb",
   "metadata": {},
   "outputs": [
    {
     "name": "stdout",
     "output_type": "stream",
     "text": [
      "[91 93]\n",
      "[96 91]\n"
     ]
    }
   ],
   "source": [
    "print(score[0][score[0]>=90])\n",
    "print(score[1][score[1]>=90])"
   ]
  },
  {
   "cell_type": "markdown",
   "id": "8793e345",
   "metadata": {},
   "source": [
    "# 배열 슬라이싱"
   ]
  },
  {
   "cell_type": "code",
   "execution_count": 86,
   "id": "f4fbd760",
   "metadata": {},
   "outputs": [
    {
     "data": {
      "text/plain": [
       "array([[ 1,  2,  3,  4,  5],\n",
       "       [ 6,  7,  8,  9, 10],\n",
       "       [11, 12, 13, 14, 15],\n",
       "       [16, 17, 18, 19, 20]])"
      ]
     },
     "execution_count": 86,
     "metadata": {},
     "output_type": "execute_result"
    }
   ],
   "source": [
    "matrix_1=np.array([[1,2,3,4,5],[6,7,8,9,10],[11,12,13,14,15],[16,17,18,19,20]])\n",
    "matrix_1"
   ]
  },
  {
   "cell_type": "markdown",
   "id": "1f1bd986",
   "metadata": {},
   "source": [
    "# [행범위, 열범위] x:y => x~y-1"
   ]
  },
  {
   "cell_type": "code",
   "execution_count": 77,
   "id": "35350543",
   "metadata": {},
   "outputs": [
    {
     "data": {
      "text/plain": [
       "array([ 1,  6, 11, 16])"
      ]
     },
     "execution_count": 77,
     "metadata": {},
     "output_type": "execute_result"
    }
   ],
   "source": [
    "matrix_1[:,0]"
   ]
  },
  {
   "cell_type": "code",
   "execution_count": 78,
   "id": "7a41b51c",
   "metadata": {},
   "outputs": [
    {
     "data": {
      "text/plain": [
       "array([[ 1],\n",
       "       [ 6],\n",
       "       [11],\n",
       "       [16]])"
      ]
     },
     "execution_count": 78,
     "metadata": {},
     "output_type": "execute_result"
    }
   ],
   "source": [
    "# 2차원 유지\n",
    "matrix_1[:,:1]"
   ]
  },
  {
   "cell_type": "code",
   "execution_count": 79,
   "id": "7b326df6",
   "metadata": {},
   "outputs": [
    {
     "data": {
      "text/plain": [
       "array([ 6,  7,  8,  9, 10])"
      ]
     },
     "execution_count": 79,
     "metadata": {},
     "output_type": "execute_result"
    }
   ],
   "source": [
    "matrix_1[1,:]"
   ]
  },
  {
   "cell_type": "code",
   "execution_count": 80,
   "id": "ad62f9d7",
   "metadata": {},
   "outputs": [
    {
     "data": {
      "text/plain": [
       "array([ 6,  7,  8,  9, 10])"
      ]
     },
     "execution_count": 80,
     "metadata": {},
     "output_type": "execute_result"
    }
   ],
   "source": [
    "matrix_1[1]"
   ]
  },
  {
   "cell_type": "code",
   "execution_count": 87,
   "id": "557e5436",
   "metadata": {},
   "outputs": [
    {
     "data": {
      "text/plain": [
       "array([[ 6,  7,  8,  9, 10]])"
      ]
     },
     "execution_count": 87,
     "metadata": {},
     "output_type": "execute_result"
    }
   ],
   "source": [
    "matrix_1[1:2,:]"
   ]
  },
  {
   "cell_type": "code",
   "execution_count": 89,
   "id": "7225b5c5",
   "metadata": {},
   "outputs": [
    {
     "data": {
      "text/plain": [
       "array([[ 8,  9, 10],\n",
       "       [18, 19, 20]])"
      ]
     },
     "execution_count": 89,
     "metadata": {},
     "output_type": "execute_result"
    }
   ],
   "source": [
    "# 1,3 행  2~끝 열\n",
    "matrix_1[[1,3],2:]"
   ]
  },
  {
   "cell_type": "code",
   "execution_count": 7,
   "id": "80fdcf16",
   "metadata": {},
   "outputs": [
    {
     "data": {
      "text/plain": [
       "array([[[ 1,  2,  3],\n",
       "        [ 4,  5,  6]],\n",
       "\n",
       "       [[ 7,  8,  9],\n",
       "        [10, 11, 12]]])"
      ]
     },
     "execution_count": 7,
     "metadata": {},
     "output_type": "execute_result"
    }
   ],
   "source": [
    "tensor"
   ]
  },
  {
   "cell_type": "code",
   "execution_count": 12,
   "id": "7b7b8741",
   "metadata": {},
   "outputs": [
    {
     "data": {
      "text/plain": [
       "array([10,  2,  6])"
      ]
     },
     "execution_count": 12,
     "metadata": {},
     "output_type": "execute_result"
    }
   ],
   "source": [
    "# [x,,], [y,,], [z,,]  => [[x][y][z],,]\n",
    "tensor[[1,0,0],[1,0,1],[0,1,2]]"
   ]
  },
  {
   "cell_type": "code",
   "execution_count": 14,
   "id": "244878c3",
   "metadata": {},
   "outputs": [
    {
     "data": {
      "text/plain": [
       "array([[1, 2],\n",
       "       [4, 5]])"
      ]
     },
     "execution_count": 14,
     "metadata": {},
     "output_type": "execute_result"
    }
   ],
   "source": [
    "tensor[0,:,:2]"
   ]
  },
  {
   "cell_type": "code",
   "execution_count": 18,
   "id": "5f63915a",
   "metadata": {},
   "outputs": [
    {
     "data": {
      "text/plain": [
       "array([ 9, 12])"
      ]
     },
     "execution_count": 18,
     "metadata": {},
     "output_type": "execute_result"
    }
   ],
   "source": [
    "# [rank, 행,열]\n",
    "tensor[1,:,2]"
   ]
  },
  {
   "cell_type": "code",
   "execution_count": null,
   "id": "3db7918a",
   "metadata": {},
   "outputs": [],
   "source": [
    "# [x:y,[1,3,5]]"
   ]
  },
  {
   "cell_type": "markdown",
   "id": "471ea606",
   "metadata": {},
   "source": [
    "# Reshape , shape 변형"
   ]
  },
  {
   "cell_type": "code",
   "execution_count": null,
   "id": "daa7de1b",
   "metadata": {},
   "outputs": [],
   "source": [
    "array.reshape(shape)"
   ]
  },
  {
   "cell_type": "code",
   "execution_count": 21,
   "id": "ae929f59",
   "metadata": {},
   "outputs": [
    {
     "data": {
      "text/plain": [
       "array([[1, 2, 3],\n",
       "       [4, 5, 6]])"
      ]
     },
     "execution_count": 21,
     "metadata": {},
     "output_type": "execute_result"
    }
   ],
   "source": [
    "arr=np.array([[1,2,3],[4,5,6]])\n",
    "arr"
   ]
  },
  {
   "cell_type": "code",
   "execution_count": 22,
   "id": "15306af9",
   "metadata": {},
   "outputs": [
    {
     "data": {
      "text/plain": [
       "array([[1, 2, 3, 4, 5, 6]])"
      ]
     },
     "execution_count": 22,
     "metadata": {},
     "output_type": "execute_result"
    }
   ],
   "source": [
    "arr.reshape(1,6)"
   ]
  },
  {
   "cell_type": "code",
   "execution_count": 23,
   "id": "a48e27b1",
   "metadata": {},
   "outputs": [
    {
     "data": {
      "text/plain": [
       "array([1, 2, 3, 4, 5, 6])"
      ]
     },
     "execution_count": 23,
     "metadata": {},
     "output_type": "execute_result"
    }
   ],
   "source": [
    "arr.reshape(6)"
   ]
  },
  {
   "cell_type": "code",
   "execution_count": 24,
   "id": "7a6b9f88",
   "metadata": {},
   "outputs": [
    {
     "data": {
      "text/plain": [
       "array([[[1, 2, 3, 4, 5, 6]]])"
      ]
     },
     "execution_count": 24,
     "metadata": {},
     "output_type": "execute_result"
    }
   ],
   "source": [
    "arr.reshape(1,1,6)"
   ]
  },
  {
   "cell_type": "code",
   "execution_count": 25,
   "id": "a4f3d6ae",
   "metadata": {},
   "outputs": [
    {
     "data": {
      "text/plain": [
       "array([[[1, 2, 3]],\n",
       "\n",
       "       [[4, 5, 6]]])"
      ]
     },
     "execution_count": 25,
     "metadata": {},
     "output_type": "execute_result"
    }
   ],
   "source": [
    "arr.reshape(2,1,3)"
   ]
  },
  {
   "cell_type": "code",
   "execution_count": 26,
   "id": "b3f825e0",
   "metadata": {},
   "outputs": [
    {
     "data": {
      "text/plain": [
       "array([[1],\n",
       "       [2],\n",
       "       [3],\n",
       "       [4],\n",
       "       [5],\n",
       "       [6]])"
      ]
     },
     "execution_count": 26,
     "metadata": {},
     "output_type": "execute_result"
    }
   ],
   "source": [
    "arr.reshape(6,1)"
   ]
  },
  {
   "cell_type": "code",
   "execution_count": 27,
   "id": "295fe936",
   "metadata": {},
   "outputs": [
    {
     "data": {
      "text/plain": [
       "array([[1, 2],\n",
       "       [3, 4],\n",
       "       [5, 6]])"
      ]
     },
     "execution_count": 27,
     "metadata": {},
     "output_type": "execute_result"
    }
   ],
   "source": [
    "# 자동 -1\n",
    "arr.reshape(-1,2)"
   ]
  },
  {
   "cell_type": "code",
   "execution_count": 28,
   "id": "321924ec",
   "metadata": {},
   "outputs": [
    {
     "data": {
      "text/plain": [
       "array([[1, 2],\n",
       "       [3, 4],\n",
       "       [5, 6]])"
      ]
     },
     "execution_count": 28,
     "metadata": {},
     "output_type": "execute_result"
    }
   ],
   "source": [
    "arr.reshape(arr.size//2,2)"
   ]
  },
  {
   "cell_type": "code",
   "execution_count": 30,
   "id": "b9af77af",
   "metadata": {},
   "outputs": [
    {
     "data": {
      "text/plain": [
       "array([ 1,  2,  3,  4,  5,  6,  7,  8,  9, 10, 11, 12, 13, 14, 15, 16, 17,\n",
       "       18, 19, 20, 21, 22, 23, 24, 25, 26, 27, 28, 29, 30, 31, 32, 33, 34,\n",
       "       35, 36])"
      ]
     },
     "execution_count": 30,
     "metadata": {},
     "output_type": "execute_result"
    }
   ],
   "source": [
    "tensor = np.array(range(1,37))\n",
    "tensor"
   ]
  },
  {
   "cell_type": "code",
   "execution_count": 32,
   "id": "f71c469c",
   "metadata": {},
   "outputs": [
    {
     "data": {
      "text/plain": [
       "array([[[ 1,  2,  3,  4],\n",
       "        [ 5,  6,  7,  8],\n",
       "        [ 9, 10, 11, 12]],\n",
       "\n",
       "       [[13, 14, 15, 16],\n",
       "        [17, 18, 19, 20],\n",
       "        [21, 22, 23, 24]],\n",
       "\n",
       "       [[25, 26, 27, 28],\n",
       "        [29, 30, 31, 32],\n",
       "        [33, 34, 35, 36]]])"
      ]
     },
     "execution_count": 32,
     "metadata": {},
     "output_type": "execute_result"
    }
   ],
   "source": [
    "tensor.reshape(3,3,-1)"
   ]
  },
  {
   "cell_type": "code",
   "execution_count": 33,
   "id": "d8bd47a5",
   "metadata": {},
   "outputs": [
    {
     "data": {
      "text/plain": [
       "array([[ 1,  2,  3,  4,  5,  6,  7,  8,  9],\n",
       "       [10, 11, 12, 13, 14, 15, 16, 17, 18],\n",
       "       [19, 20, 21, 22, 23, 24, 25, 26, 27],\n",
       "       [28, 29, 30, 31, 32, 33, 34, 35, 36]])"
      ]
     },
     "execution_count": 33,
     "metadata": {},
     "output_type": "execute_result"
    }
   ],
   "source": [
    "tensor.reshape(-1,9)"
   ]
  },
  {
   "cell_type": "markdown",
   "id": "cf30fcfa",
   "metadata": {},
   "source": [
    "# Flatten 1줄 나열"
   ]
  },
  {
   "cell_type": "code",
   "execution_count": 34,
   "id": "c08e77eb",
   "metadata": {},
   "outputs": [
    {
     "data": {
      "text/plain": [
       "array([ 1,  2,  3,  4,  5,  6,  7,  8,  9, 10, 11, 12, 13, 14, 15, 16, 17,\n",
       "       18, 19, 20, 21, 22, 23, 24, 25, 26, 27, 28, 29, 30, 31, 32, 33, 34,\n",
       "       35, 36])"
      ]
     },
     "execution_count": 34,
     "metadata": {},
     "output_type": "execute_result"
    }
   ],
   "source": [
    "tensor.flatten()"
   ]
  },
  {
   "cell_type": "markdown",
   "id": "a58719a1",
   "metadata": {},
   "source": [
    "# Arange "
   ]
  },
  {
   "cell_type": "code",
   "execution_count": 35,
   "id": "775a98e4",
   "metadata": {},
   "outputs": [
    {
     "data": {
      "text/plain": [
       "array([ 0,  1,  2,  3,  4,  5,  6,  7,  8,  9, 10, 11, 12, 13, 14, 15, 16,\n",
       "       17, 18, 19, 20, 21, 22, 23, 24, 25, 26, 27, 28, 29])"
      ]
     },
     "execution_count": 35,
     "metadata": {},
     "output_type": "execute_result"
    }
   ],
   "source": [
    "np.arange(30)"
   ]
  },
  {
   "cell_type": "code",
   "execution_count": 37,
   "id": "fcd7a2cc",
   "metadata": {},
   "outputs": [
    {
     "data": {
      "text/plain": [
       "array([ 0,  2,  4,  6,  8, 10, 12, 14, 16, 18, 20, 22, 24, 26, 28])"
      ]
     },
     "execution_count": 37,
     "metadata": {},
     "output_type": "execute_result"
    }
   ],
   "source": [
    "np.arange(0,30,2)"
   ]
  },
  {
   "cell_type": "code",
   "execution_count": 41,
   "id": "578e51ac",
   "metadata": {},
   "outputs": [
    {
     "data": {
      "text/plain": [
       "array([0. , 0.2, 0.4, 0.6, 0.8, 1. , 1.2, 1.4, 1.6, 1.8, 2. , 2.2, 2.4,\n",
       "       2.6, 2.8, 3. , 3.2, 3.4, 3.6, 3.8, 4. , 4.2, 4.4, 4.6, 4.8])"
      ]
     },
     "execution_count": 41,
     "metadata": {},
     "output_type": "execute_result"
    }
   ],
   "source": [
    "np.arange(0,5,0.2)"
   ]
  },
  {
   "cell_type": "code",
   "execution_count": 42,
   "id": "49ca3403",
   "metadata": {},
   "outputs": [
    {
     "data": {
      "text/plain": [
       "array([[ 1,  2,  3,  4,  5],\n",
       "       [ 6,  7,  8,  9, 10],\n",
       "       [11, 12, 13, 14, 15],\n",
       "       [16, 17, 18, 19, 20],\n",
       "       [21, 22, 23, 24, 25]])"
      ]
     },
     "execution_count": 42,
     "metadata": {},
     "output_type": "execute_result"
    }
   ],
   "source": [
    "np.arange(1,26).reshape(5,5)"
   ]
  },
  {
   "cell_type": "code",
   "execution_count": 44,
   "id": "c0f52f02",
   "metadata": {},
   "outputs": [
    {
     "data": {
      "text/plain": [
       "array([[100, 110, 120, 130, 140],\n",
       "       [150, 160, 170, 180, 190]])"
      ]
     },
     "execution_count": 44,
     "metadata": {},
     "output_type": "execute_result"
    }
   ],
   "source": [
    "np.arange(100,191,10).reshape(2,5)"
   ]
  },
  {
   "cell_type": "code",
   "execution_count": 64,
   "id": "559f43ad",
   "metadata": {},
   "outputs": [
    {
     "data": {
      "text/plain": [
       "array([[[-2. ],\n",
       "        [-1.5],\n",
       "        [-1. ]],\n",
       "\n",
       "       [[-0.5],\n",
       "        [ 0. ],\n",
       "        [ 0.5]],\n",
       "\n",
       "       [[ 1. ],\n",
       "        [ 1.5],\n",
       "        [ 2. ]]])"
      ]
     },
     "execution_count": 64,
     "metadata": {},
     "output_type": "execute_result"
    }
   ],
   "source": [
    "arr3= np.arange(-2,2.1,0.5).reshape(3,3,-1)\n",
    "arr3"
   ]
  },
  {
   "cell_type": "markdown",
   "id": "ea126ab2",
   "metadata": {},
   "source": [
    "# zeros, ones, empty, _like, identity, eye, full"
   ]
  },
  {
   "cell_type": "code",
   "execution_count": 62,
   "id": "f686d254",
   "metadata": {},
   "outputs": [
    {
     "name": "stdout",
     "output_type": "stream",
     "text": [
      "[[0 0 0]\n",
      " [0 0 0]]\n",
      "[[1. 1. 1.]\n",
      " [1. 1. 1.]]\n",
      "[[1 1 1]\n",
      " [1 1 1]]\n"
     ]
    }
   ],
   "source": [
    "# (shape,dtype)\n",
    "print(np.zeros((2,3),int))\n",
    "print(np.ones((2,3)))\n",
    "\n",
    "# 빈값 이지만 메모리에 저장된 값 저장 될 수 있\n",
    "print(np.empty((2,3),np.int8))  "
   ]
  },
  {
   "cell_type": "code",
   "execution_count": 65,
   "id": "e568dc50",
   "metadata": {},
   "outputs": [
    {
     "data": {
      "text/plain": [
       "array([[[0.],\n",
       "        [0.],\n",
       "        [0.]],\n",
       "\n",
       "       [[0.],\n",
       "        [0.],\n",
       "        [0.]],\n",
       "\n",
       "       [[0.],\n",
       "        [0.],\n",
       "        [0.]]])"
      ]
     },
     "execution_count": 65,
     "metadata": {},
     "output_type": "execute_result"
    }
   ],
   "source": [
    "# 원하는 배열과 같은 크기\n",
    "np.zeros_like(arr3)"
   ]
  },
  {
   "cell_type": "code",
   "execution_count": 67,
   "id": "4c3511b9",
   "metadata": {},
   "outputs": [
    {
     "data": {
      "text/plain": [
       "array([[1, 0, 0, 0, 0],\n",
       "       [0, 1, 0, 0, 0],\n",
       "       [0, 0, 1, 0, 0],\n",
       "       [0, 0, 0, 1, 0],\n",
       "       [0, 0, 0, 0, 1]])"
      ]
     },
     "execution_count": 67,
     "metadata": {},
     "output_type": "execute_result"
    }
   ],
   "source": [
    "# 단위행열\n",
    "# (size,dtype)\n",
    "np.identity(5,int)"
   ]
  },
  {
   "cell_type": "code",
   "execution_count": 68,
   "id": "72530fc9",
   "metadata": {},
   "outputs": [
    {
     "data": {
      "text/plain": [
       "array([[0., 1., 0., 0., 0., 0., 0.],\n",
       "       [0., 0., 1., 0., 0., 0., 0.],\n",
       "       [0., 0., 0., 1., 0., 0., 0.],\n",
       "       [0., 0., 0., 0., 1., 0., 0.],\n",
       "       [0., 0., 0., 0., 0., 1., 0.]])"
      ]
     },
     "execution_count": 68,
     "metadata": {},
     "output_type": "execute_result"
    }
   ],
   "source": [
    "# 단위행열 1대각선 위치 지정\n",
    "# M= 보여지는 열 개수, k= 대각선 위치 이동\n",
    "np.eye(5,k=1,M=7)"
   ]
  },
  {
   "cell_type": "code",
   "execution_count": 69,
   "id": "d85db210",
   "metadata": {},
   "outputs": [
    {
     "data": {
      "text/plain": [
       "array([[3, 3, 3, 3, 3],\n",
       "       [3, 3, 3, 3, 3]])"
      ]
     },
     "execution_count": 69,
     "metadata": {},
     "output_type": "execute_result"
    }
   ],
   "source": [
    "np.full((2,5),3)"
   ]
  },
  {
   "cell_type": "markdown",
   "id": "98db00dd",
   "metadata": {},
   "source": [
    "# Random"
   ]
  },
  {
   "cell_type": "code",
   "execution_count": 70,
   "id": "c0dc09b3",
   "metadata": {},
   "outputs": [
    {
     "data": {
      "text/plain": [
       "1"
      ]
     },
     "execution_count": 70,
     "metadata": {},
     "output_type": "execute_result"
    }
   ],
   "source": [
    "# 0~5 중 정수 랜덤 \n",
    "np.random.randint(6)"
   ]
  },
  {
   "cell_type": "code",
   "execution_count": 78,
   "id": "7e8365d9",
   "metadata": {},
   "outputs": [
    {
     "data": {
      "text/plain": [
       "array([4, 2, 4])"
      ]
     },
     "execution_count": 78,
     "metadata": {},
     "output_type": "execute_result"
    }
   ],
   "source": [
    "# 1~ 5,3,9\n",
    "np.random.randint(1,[5,3,9])"
   ]
  },
  {
   "cell_type": "code",
   "execution_count": 72,
   "id": "a994c279",
   "metadata": {},
   "outputs": [
    {
     "data": {
      "text/plain": [
       "array([[0.29302353, 0.57187655],\n",
       "       [0.16545846, 0.59791664],\n",
       "       [0.50758427, 0.37040704],\n",
       "       [0.11119138, 0.55719274],\n",
       "       [0.56516222, 0.42141992]])"
      ]
     },
     "execution_count": 72,
     "metadata": {},
     "output_type": "execute_result"
    }
   ],
   "source": [
    "# 0~1 표준정규분포\n",
    "np.random.rand(5,2)"
   ]
  },
  {
   "cell_type": "code",
   "execution_count": 74,
   "id": "e6d09c82",
   "metadata": {},
   "outputs": [
    {
     "data": {
      "text/plain": [
       "array([[-0.7309397 ,  0.03389881],\n",
       "       [-1.03194254,  0.17833245],\n",
       "       [-1.50597697, -1.24415888],\n",
       "       [-1.51224267,  0.38531479],\n",
       "       [ 0.63239207, -0.16375095]])"
      ]
     },
     "execution_count": 74,
     "metadata": {},
     "output_type": "execute_result"
    }
   ],
   "source": [
    "# 평균0 , 표준편차1 \n",
    "np.random.randn(5,2)"
   ]
  },
  {
   "cell_type": "markdown",
   "id": "1ee4ea69",
   "metadata": {},
   "source": [
    "# 연산함수\n",
    "sum mean:평균 max min log sqrt std:표준편차 exp:지수 sin,cos,tan abs/fabs:절대값 "
   ]
  },
  {
   "cell_type": "markdown",
   "id": "4b76e937",
   "metadata": {},
   "source": [
    "ceil:올림 floor:버림 roound:반올림 mod:% \n",
    "add subtract:- multiply:* divide:나누기 power:제곱"
   ]
  },
  {
   "cell_type": "code",
   "execution_count": 84,
   "id": "71ad15c5",
   "metadata": {},
   "outputs": [
    {
     "data": {
      "text/plain": [
       "array([[ 0.34808453,  0.54208829, -0.01666847, -0.38173501,  0.74434888],\n",
       "       [-0.122861  , -0.21305045, -0.0399612 , -2.17964778, -1.88173758],\n",
       "       [-0.58076595, -1.18517282, -0.3524607 ,  1.36152681,  0.94264549]])"
      ]
     },
     "execution_count": 84,
     "metadata": {},
     "output_type": "execute_result"
    }
   ],
   "source": [
    "arr2 = np.random.randn(3,5)\n",
    "arr2"
   ]
  },
  {
   "cell_type": "code",
   "execution_count": 85,
   "id": "cfac24b3",
   "metadata": {},
   "outputs": [
    {
     "data": {
      "text/plain": [
       "-3.015366953174708"
      ]
     },
     "execution_count": 85,
     "metadata": {},
     "output_type": "execute_result"
    }
   ],
   "source": [
    "sum(arr2)\n",
    "arr2.sum()"
   ]
  },
  {
   "cell_type": "code",
   "execution_count": 86,
   "id": "aa1ff0ea",
   "metadata": {},
   "outputs": [
    {
     "data": {
      "text/plain": [
       "array([-0.35554241, -0.85613498, -0.40909037, -1.19985598, -0.19474321])"
      ]
     },
     "execution_count": 86,
     "metadata": {},
     "output_type": "execute_result"
    }
   ],
   "source": [
    "# 같은 행 같은 자리 합\n",
    "arr2.sum(axis=0)"
   ]
  },
  {
   "cell_type": "code",
   "execution_count": 87,
   "id": "4633d214",
   "metadata": {},
   "outputs": [
    {
     "data": {
      "text/plain": [
       "array([ 1.23611822, -4.43725801,  0.18577284])"
      ]
     },
     "execution_count": 87,
     "metadata": {},
     "output_type": "execute_result"
    }
   ],
   "source": [
    "# 같은 열 같은 자리 합\n",
    "arr2.sum(axis=1)"
   ]
  },
  {
   "cell_type": "markdown",
   "id": "e7f16dda",
   "metadata": {},
   "source": [
    "# Sort"
   ]
  },
  {
   "cell_type": "code",
   "execution_count": 88,
   "id": "795ef915",
   "metadata": {},
   "outputs": [
    {
     "data": {
      "text/plain": [
       "array([[-0.38173501, -0.01666847,  0.34808453,  0.54208829,  0.74434888],\n",
       "       [-2.17964778, -1.88173758, -0.21305045, -0.122861  , -0.0399612 ],\n",
       "       [-1.18517282, -0.58076595, -0.3524607 ,  0.94264549,  1.36152681]])"
      ]
     },
     "execution_count": 88,
     "metadata": {},
     "output_type": "execute_result"
    }
   ],
   "source": [
    "# 열 기준\n",
    "np.sort(arr2)"
   ]
  },
  {
   "cell_type": "code",
   "execution_count": 89,
   "id": "64d13d22",
   "metadata": {},
   "outputs": [
    {
     "data": {
      "text/plain": [
       "array([[-1.18517282, -0.58076595, -0.3524607 ,  0.94264549,  1.36152681],\n",
       "       [-2.17964778, -1.88173758, -0.21305045, -0.122861  , -0.0399612 ],\n",
       "       [-0.38173501, -0.01666847,  0.34808453,  0.54208829,  0.74434888]])"
      ]
     },
     "execution_count": 89,
     "metadata": {},
     "output_type": "execute_result"
    }
   ],
   "source": [
    "# 내림차순\n",
    "np.sort(arr2)[::-1]"
   ]
  },
  {
   "cell_type": "code",
   "execution_count": null,
   "id": "30a4cdd7",
   "metadata": {},
   "outputs": [],
   "source": [
    "\n"
   ]
  },
  {
   "cell_type": "code",
   "execution_count": 91,
   "id": "c52331c1",
   "metadata": {},
   "outputs": [
    {
     "data": {
      "text/plain": [
       "[53, 63, 12, 59, 64]"
      ]
     },
     "execution_count": 91,
     "metadata": {},
     "output_type": "execute_result"
    }
   ],
   "source": [
    "[np.random.randint(1,101) for n in range(5)]"
   ]
  },
  {
   "cell_type": "markdown",
   "id": "6b010945",
   "metadata": {},
   "source": [
    "# 배열 합치기\n",
    "Vstack:수직합 Hstack:수평합 concatenate:수직수평합"
   ]
  },
  {
   "cell_type": "code",
   "execution_count": 106,
   "id": "ae7a9b09",
   "metadata": {},
   "outputs": [
    {
     "data": {
      "text/plain": [
       "array([[1],\n",
       "       [2],\n",
       "       [3],\n",
       "       [4],\n",
       "       [5],\n",
       "       [6]])"
      ]
     },
     "execution_count": 106,
     "metadata": {},
     "output_type": "execute_result"
    }
   ],
   "source": [
    "v1= np.array([1,2,3]).reshape(3,1)\n",
    "v2= np.array([4,5,6]).reshape(3,1)\n",
    "np.vstack([v1,v2])"
   ]
  },
  {
   "cell_type": "code",
   "execution_count": 107,
   "id": "9b67e6ea",
   "metadata": {},
   "outputs": [
    {
     "data": {
      "text/plain": [
       "array([[1, 4],\n",
       "       [2, 5],\n",
       "       [3, 6]])"
      ]
     },
     "execution_count": 107,
     "metadata": {},
     "output_type": "execute_result"
    }
   ],
   "source": [
    "np.hstack([v1,v2])"
   ]
  },
  {
   "cell_type": "code",
   "execution_count": 108,
   "id": "b27606bc",
   "metadata": {},
   "outputs": [
    {
     "data": {
      "text/plain": [
       "array([[1],\n",
       "       [2],\n",
       "       [3],\n",
       "       [4],\n",
       "       [5],\n",
       "       [6]])"
      ]
     },
     "execution_count": 108,
     "metadata": {},
     "output_type": "execute_result"
    }
   ],
   "source": [
    "# 같은 차원\n",
    "# x,y,z 축 0,1,2\n",
    "np.concatenate([v1,v2],axis=0)"
   ]
  },
  {
   "cell_type": "code",
   "execution_count": 119,
   "id": "78cd5094",
   "metadata": {},
   "outputs": [
    {
     "data": {
      "text/plain": [
       "array([[1, 2, 3],\n",
       "       [4, 5, 6],\n",
       "       [7, 8, 9]])"
      ]
     },
     "execution_count": 119,
     "metadata": {},
     "output_type": "execute_result"
    }
   ],
   "source": [
    "mat=np.array([[1,2,3],[4,5,6]])\n",
    "vec= np.array([7,8,9])\n",
    "np.vstack([mat,vec])"
   ]
  },
  {
   "cell_type": "code",
   "execution_count": 128,
   "id": "27540dfc",
   "metadata": {},
   "outputs": [
    {
     "data": {
      "text/plain": [
       "array([[7, 8, 9]])"
      ]
     },
     "execution_count": 128,
     "metadata": {},
     "output_type": "execute_result"
    }
   ],
   "source": [
    "# concatenate 사용시 reshape\n",
    "vec.reshape(1,3)\n",
    "#np.concatenate([mat,vec],axis=1)"
   ]
  },
  {
   "cell_type": "markdown",
   "id": "07915c80",
   "metadata": {},
   "source": [
    "# 행/열 변환 transpose"
   ]
  },
  {
   "cell_type": "code",
   "execution_count": 129,
   "id": "813baeb0",
   "metadata": {},
   "outputs": [
    {
     "data": {
      "text/plain": [
       "array([[1, 2, 3],\n",
       "       [4, 5, 6]])"
      ]
     },
     "execution_count": 129,
     "metadata": {},
     "output_type": "execute_result"
    }
   ],
   "source": [
    "mat"
   ]
  },
  {
   "cell_type": "code",
   "execution_count": 130,
   "id": "97cf7e4e",
   "metadata": {},
   "outputs": [
    {
     "data": {
      "text/plain": [
       "array([[1, 4],\n",
       "       [2, 5],\n",
       "       [3, 6]])"
      ]
     },
     "execution_count": 130,
     "metadata": {},
     "output_type": "execute_result"
    }
   ],
   "source": [
    "mat.transpose()"
   ]
  },
  {
   "cell_type": "code",
   "execution_count": 132,
   "id": "e1ab2d11",
   "metadata": {},
   "outputs": [
    {
     "data": {
      "text/plain": [
       "array([[1, 4],\n",
       "       [2, 5],\n",
       "       [3, 6]])"
      ]
     },
     "execution_count": 132,
     "metadata": {},
     "output_type": "execute_result"
    }
   ],
   "source": [
    "mat.T"
   ]
  },
  {
   "cell_type": "markdown",
   "id": "90cebccd",
   "metadata": {},
   "source": [
    "# argmax, argmin\n",
    "flat 했을때 최댓값 위치"
   ]
  },
  {
   "cell_type": "code",
   "execution_count": 146,
   "id": "ca0c29f0",
   "metadata": {},
   "outputs": [
    {
     "data": {
      "text/plain": [
       "array([[ 0.34808453,  0.54208829, -0.01666847, -0.38173501,  0.74434888],\n",
       "       [-0.122861  , -0.21305045, -0.0399612 , -2.17964778, -1.88173758],\n",
       "       [-0.58076595, -1.18517282, -0.3524607 ,  1.36152681,  0.94264549]])"
      ]
     },
     "execution_count": 146,
     "metadata": {},
     "output_type": "execute_result"
    }
   ],
   "source": [
    "arr2"
   ]
  },
  {
   "cell_type": "code",
   "execution_count": 137,
   "id": "3c1cfb48",
   "metadata": {},
   "outputs": [
    {
     "data": {
      "text/plain": [
       "array([0, 0, 0, 2, 2], dtype=int64)"
      ]
     },
     "execution_count": 137,
     "metadata": {},
     "output_type": "execute_result"
    }
   ],
   "source": [
    "# 각 행별 최댓값\n",
    "np.argmax(arr2,0)"
   ]
  },
  {
   "cell_type": "markdown",
   "id": "8ece1a00",
   "metadata": {},
   "source": [
    "# fancy index \n",
    "b=[3,4]\n",
    "a[b] a의 3,4번자리"
   ]
  },
  {
   "cell_type": "code",
   "execution_count": 142,
   "id": "8787c7c5",
   "metadata": {},
   "outputs": [
    {
     "data": {
      "text/plain": [
       "array([-1.0066108 , -0.48796733, -0.47612366, -0.49932139, -2.08600699,\n",
       "       -0.92833192,  0.86310413, -0.43198061, -0.47459901, -0.41406505,\n",
       "       -0.06443681, -1.02948072,  0.71118238,  0.2996093 ,  1.19648006,\n",
       "       -1.55436349,  0.23593908, -0.44864996, -0.02856479,  0.91379507])"
      ]
     },
     "execution_count": 142,
     "metadata": {},
     "output_type": "execute_result"
    }
   ],
   "source": [
    "arr1 = np.random.randn(20)\n",
    "arr1"
   ]
  },
  {
   "cell_type": "code",
   "execution_count": 143,
   "id": "155bf10d",
   "metadata": {},
   "outputs": [
    {
     "data": {
      "text/plain": [
       "1.1964800582958706"
      ]
     },
     "execution_count": 143,
     "metadata": {},
     "output_type": "execute_result"
    }
   ],
   "source": [
    "arr1[np.argmax(arr1)]"
   ]
  },
  {
   "cell_type": "code",
   "execution_count": 150,
   "id": "6f0decb0",
   "metadata": {},
   "outputs": [
    {
     "data": {
      "text/plain": [
       "1.1964800582958706"
      ]
     },
     "execution_count": 150,
     "metadata": {},
     "output_type": "execute_result"
    }
   ],
   "source": [
    "np.max(arr1)"
   ]
  },
  {
   "cell_type": "code",
   "execution_count": null,
   "id": "e15610ff",
   "metadata": {},
   "outputs": [],
   "source": []
  },
  {
   "cell_type": "code",
   "execution_count": null,
   "id": "82a59dbc",
   "metadata": {},
   "outputs": [],
   "source": []
  },
  {
   "cell_type": "code",
   "execution_count": null,
   "id": "90ee7871",
   "metadata": {},
   "outputs": [],
   "source": []
  },
  {
   "cell_type": "code",
   "execution_count": null,
   "id": "c190254f",
   "metadata": {},
   "outputs": [],
   "source": []
  },
  {
   "cell_type": "code",
   "execution_count": null,
   "id": "8bd28880",
   "metadata": {},
   "outputs": [],
   "source": []
  },
  {
   "cell_type": "code",
   "execution_count": null,
   "id": "daedf919",
   "metadata": {},
   "outputs": [],
   "source": []
  }
 ],
 "metadata": {
  "kernelspec": {
   "display_name": "Python 3 (ipykernel)",
   "language": "python",
   "name": "python3"
  },
  "language_info": {
   "codemirror_mode": {
    "name": "ipython",
    "version": 3
   },
   "file_extension": ".py",
   "mimetype": "text/x-python",
   "name": "python",
   "nbconvert_exporter": "python",
   "pygments_lexer": "ipython3",
   "version": "3.9.12"
  }
 },
 "nbformat": 4,
 "nbformat_minor": 5
}
