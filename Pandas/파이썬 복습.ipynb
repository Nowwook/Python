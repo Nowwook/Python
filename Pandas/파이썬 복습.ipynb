{
 "cells": [
  {
   "cell_type": "code",
   "execution_count": 1,
   "id": "2d8c9940",
   "metadata": {},
   "outputs": [
    {
     "data": {
      "text/plain": [
       "3"
      ]
     },
     "execution_count": 1,
     "metadata": {},
     "output_type": "execute_result"
    }
   ],
   "source": [
    "a=1\n",
    "b=2\n",
    "a+b"
   ]
  },
  {
   "cell_type": "markdown",
   "id": "8dd21e02",
   "metadata": {},
   "source": [
    "## m \n"
   ]
  },
  {
   "cell_type": "code",
   "execution_count": 63,
   "id": "95b9477f",
   "metadata": {},
   "outputs": [
    {
     "data": {
      "text/plain": [
       "[7, 14, 21, 28, 35, 42, 49, 56, 63, 70, 77, 84, 91, 98]"
      ]
     },
     "execution_count": 63,
     "metadata": {},
     "output_type": "execute_result"
    }
   ],
   "source": [
    "a = []\n",
    "for i in range(7,100,7):\n",
    "    a.append(i)\n",
    "a    "
   ]
  },
  {
   "cell_type": "code",
   "execution_count": 19,
   "id": "f8b88f68",
   "metadata": {},
   "outputs": [
    {
     "data": {
      "text/plain": [
       "[35, 42, 49, 56]"
      ]
     },
     "execution_count": 19,
     "metadata": {},
     "output_type": "execute_result"
    }
   ],
   "source": [
    "a[4:8]"
   ]
  },
  {
   "cell_type": "code",
   "execution_count": 21,
   "id": "bb4d52b1",
   "metadata": {},
   "outputs": [
    {
     "data": {
      "text/plain": [
       "84"
      ]
     },
     "execution_count": 21,
     "metadata": {},
     "output_type": "execute_result"
    }
   ],
   "source": [
    "a[-3]"
   ]
  },
  {
   "cell_type": "code",
   "execution_count": 22,
   "id": "ff2c71b0",
   "metadata": {},
   "outputs": [
    {
     "data": {
      "text/plain": [
       "14"
      ]
     },
     "execution_count": 22,
     "metadata": {},
     "output_type": "execute_result"
    }
   ],
   "source": [
    "len(a)"
   ]
  },
  {
   "cell_type": "code",
   "execution_count": 31,
   "id": "78717dc2",
   "metadata": {},
   "outputs": [
    {
     "name": "stdout",
     "output_type": "stream",
     "text": [
      "735\n",
      "52.5\n"
     ]
    }
   ],
   "source": [
    "print(sum(a))\n",
    "\n",
    "print( sum(a)/len(a))"
   ]
  },
  {
   "cell_type": "markdown",
   "id": "59854cf8",
   "metadata": {},
   "source": [
    "# 소수 구하기"
   ]
  },
  {
   "cell_type": "code",
   "execution_count": 68,
   "id": "70ae81b7",
   "metadata": {},
   "outputs": [
    {
     "name": "stdout",
     "output_type": "stream",
     "text": [
      "[2, 3, 5, 7, 11, 13, 17, 19, 23, 29, 31, 37, 41, 43, 47, 53, 59, 61, 67, 71, 73, 79, 83, 89, 97]\n",
      "[2, 3, 5, 7, 11, 13, 17, 19, 23, 29, 31, 37, 41, 43, 47, 53, 59, 61, 67, 71, 73, 79, 83, 89, 97]\n"
     ]
    }
   ],
   "source": [
    "b=[]\n",
    "for i in range(2,101):\n",
    "    cnt=0\n",
    "    for j in range(1,i+1):   # int(math.sqrt(i))+1\n",
    "        if i%j ==0:\n",
    "            cnt+=1\n",
    "    if cnt==2:\n",
    "        b.append(i)\n",
    "print(b)\n",
    "\n",
    "c=[]\n",
    "for i in range(2,100):\n",
    "    for j in range(2,i+1):\n",
    "        if(i==j):\n",
    "            c.append(i)\n",
    "        elif(i%j==0):\n",
    "            break\n",
    "print(c)            "
   ]
  },
  {
   "cell_type": "code",
   "execution_count": 94,
   "id": "35a917af",
   "metadata": {},
   "outputs": [
    {
     "name": "stdout",
     "output_type": "stream",
     "text": [
      "[2, 3, 5, 7, 11, 13, 17, 19, 23, 29, 31, 37, 41, 43, 47, 53, 59, 61, 67, 71, 73, 79, 83, 89, 97]\n"
     ]
    }
   ],
   "source": [
    "def prime1(n):\n",
    "    c=[]\n",
    "    for i in range(2,n):\n",
    "        for j in range(2,i+1):\n",
    "            if(i==j):\n",
    "                c.append(i)\n",
    "            elif(i%j==0):\n",
    "                break\n",
    "    return c\n",
    "print( prime1(100))"
   ]
  },
  {
   "cell_type": "code",
   "execution_count": 97,
   "id": "644b1135",
   "metadata": {},
   "outputs": [
    {
     "name": "stdout",
     "output_type": "stream",
     "text": [
      "[2, 3, 5, 7, 11, 13, 17, 19, 23, 29, 31, 37, 41, 43, 47, 53, 59, 61, 67, 71, 73, 79, 83, 89, 97]\n"
     ]
    }
   ],
   "source": [
    "import math\n",
    "def prime2(n):\n",
    "    b=[]\n",
    "    for i in range(2,n+1):\n",
    "        cnt=0\n",
    "        for j in range(2,int(math.sqrt(i))+1):\n",
    "            if i%j ==0:\n",
    "                cnt+=1\n",
    "        if cnt==0:\n",
    "            b.append(i)\n",
    "    return b\n",
    "\n",
    "print(prime12(100))"
   ]
  },
  {
   "cell_type": "code",
   "execution_count": 98,
   "id": "6eb1b072",
   "metadata": {},
   "outputs": [
    {
     "name": "stdout",
     "output_type": "stream",
     "text": [
      "0.4706423282623291\n",
      "0.03124380111694336\n"
     ]
    }
   ],
   "source": [
    "import time\n",
    "\n",
    "start = time.time()\n",
    "prime(10000)\n",
    "print(time.time()-start)\n",
    "\n",
    "start = time.time()\n",
    "prime2(10000)\n",
    "print(time.time()-start)\n"
   ]
  },
  {
   "cell_type": "markdown",
   "id": "10e1d3eb",
   "metadata": {},
   "source": [
    "# 딕셔너리 d={}"
   ]
  },
  {
   "cell_type": "code",
   "execution_count": 74,
   "id": "1ef56ce5",
   "metadata": {},
   "outputs": [],
   "source": [
    "d= {'v1':[1,2,3], 'v2':{'a':[23], 'b':[4,5]}}"
   ]
  },
  {
   "cell_type": "code",
   "execution_count": 77,
   "id": "1a7a671e",
   "metadata": {},
   "outputs": [
    {
     "data": {
      "text/plain": [
       "[1, 2, 3]"
      ]
     },
     "execution_count": 77,
     "metadata": {},
     "output_type": "execute_result"
    }
   ],
   "source": [
    "d['v1']"
   ]
  },
  {
   "cell_type": "code",
   "execution_count": 78,
   "id": "f778acf2",
   "metadata": {},
   "outputs": [
    {
     "data": {
      "text/plain": [
       "{'a': [23], 'b': [4, 5]}"
      ]
     },
     "execution_count": 78,
     "metadata": {},
     "output_type": "execute_result"
    }
   ],
   "source": [
    "d['v2']"
   ]
  },
  {
   "cell_type": "code",
   "execution_count": 80,
   "id": "50ef0f0a",
   "metadata": {},
   "outputs": [
    {
     "data": {
      "text/plain": [
       "[23]"
      ]
     },
     "execution_count": 80,
     "metadata": {},
     "output_type": "execute_result"
    }
   ],
   "source": [
    "d['v2']['a']"
   ]
  },
  {
   "cell_type": "code",
   "execution_count": 112,
   "id": "824eca1b",
   "metadata": {},
   "outputs": [],
   "source": [
    "d['newkey']=(1,2)"
   ]
  },
  {
   "cell_type": "markdown",
   "id": "88c23e5f",
   "metadata": {},
   "source": [
    "# 가장 많은 알파벳 "
   ]
  },
  {
   "cell_type": "code",
   "execution_count": 104,
   "id": "896fd5de",
   "metadata": {},
   "outputs": [
    {
     "name": "stdout",
     "output_type": "stream",
     "text": [
      "['a']\n"
     ]
    }
   ],
   "source": [
    "S = 'Big Data Analysis'\n",
    "\n",
    "S = S.lower()\n",
    "alphabet = {}\n",
    "\n",
    "for i in S:\n",
    "    if i not in alphabet:\n",
    "        alphabet[ i ] = 1\n",
    "    else:\n",
    "        alphabet[ i ] += 1\n",
    "        \n",
    "alpha_list = []\n",
    "for k,v in alphabet.items():\n",
    "    if v == max(alphabet.values()):\n",
    "        alpha_list.append(k)\n",
    "print(alpha_list)"
   ]
  },
  {
   "cell_type": "code",
   "execution_count": 103,
   "id": "05e466c7",
   "metadata": {},
   "outputs": [
    {
     "data": {
      "text/plain": [
       "dict_keys(['b', 'i', 'g', ' ', 'd', 'a', 't', 'n', 'l', 'y', 's'])"
      ]
     },
     "execution_count": 103,
     "metadata": {},
     "output_type": "execute_result"
    }
   ],
   "source": [
    "alphabet.keys()"
   ]
  },
  {
   "cell_type": "code",
   "execution_count": 105,
   "id": "a047f540",
   "metadata": {},
   "outputs": [
    {
     "data": {
      "text/plain": [
       "dict_values([1, 2, 1, 2, 1, 4, 1, 1, 1, 1, 2])"
      ]
     },
     "execution_count": 105,
     "metadata": {},
     "output_type": "execute_result"
    }
   ],
   "source": [
    "alphabet.values()"
   ]
  },
  {
   "cell_type": "code",
   "execution_count": 106,
   "id": "43ed37bc",
   "metadata": {},
   "outputs": [
    {
     "data": {
      "text/plain": [
       "dict_items([('b', 1), ('i', 2), ('g', 1), (' ', 2), ('d', 1), ('a', 4), ('t', 1), ('n', 1), ('l', 1), ('y', 1), ('s', 2)])"
      ]
     },
     "execution_count": 106,
     "metadata": {},
     "output_type": "execute_result"
    }
   ],
   "source": [
    "alphabet.items()"
   ]
  },
  {
   "cell_type": "code",
   "execution_count": 110,
   "id": "304a74b4",
   "metadata": {},
   "outputs": [
    {
     "name": "stdout",
     "output_type": "stream",
     "text": [
      "b 1\n",
      "i 2\n",
      "g 1\n",
      "  2\n",
      "d 1\n",
      "a 4\n",
      "t 1\n",
      "n 1\n",
      "l 1\n",
      "y 1\n",
      "s 2\n",
      "같음\n",
      "b 1\n",
      "i 2\n",
      "g 1\n",
      "  2\n",
      "d 1\n",
      "a 4\n",
      "t 1\n",
      "n 1\n",
      "l 1\n",
      "y 1\n",
      "s 2\n"
     ]
    }
   ],
   "source": [
    "for i in alphabet.items():\n",
    "    print(i[0],i[1])\n",
    "print('같음')\n",
    "for k,v in alphabet.items():\n",
    "    print(k,v)"
   ]
  },
  {
   "cell_type": "code",
   "execution_count": 118,
   "id": "a30be910",
   "metadata": {},
   "outputs": [
    {
     "name": "stdout",
     "output_type": "stream",
     "text": [
      "['a']\n"
     ]
    }
   ],
   "source": [
    "def Alpha(S):\n",
    "    S = S.lower()\n",
    "    alphabet = {}\n",
    "\n",
    "    for i in S:\n",
    "        if i not in alphabet:\n",
    "            alphabet[ i ] = 1\n",
    "        else:\n",
    "            alphabet[ i ] += 1\n",
    "\n",
    "    alpha_list = []\n",
    "    for k,v in alphabet.items():\n",
    "        if v == max(alphabet.values()):\n",
    "            alpha_list.append(k)\n",
    "    return alpha_list\n",
    "\n",
    "print(Alpha('asdasdw wdeswefffasada'))"
   ]
  },
  {
   "cell_type": "code",
   "execution_count": null,
   "id": "4216ed78",
   "metadata": {},
   "outputs": [],
   "source": []
  }
 ],
 "metadata": {
  "kernelspec": {
   "display_name": "Python 3 (ipykernel)",
   "language": "python",
   "name": "python3"
  },
  "language_info": {
   "codemirror_mode": {
    "name": "ipython",
    "version": 3
   },
   "file_extension": ".py",
   "mimetype": "text/x-python",
   "name": "python",
   "nbconvert_exporter": "python",
   "pygments_lexer": "ipython3",
   "version": "3.9.12"
  }
 },
 "nbformat": 4,
 "nbformat_minor": 5
}
