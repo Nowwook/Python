{
 "cells": [
  {
   "cell_type": "code",
   "execution_count": 1,
   "id": "5d0b4629",
   "metadata": {},
   "outputs": [],
   "source": [
    "import numpy as np"
   ]
  },
  {
   "cell_type": "code",
   "execution_count": 4,
   "id": "9f14c0b4",
   "metadata": {},
   "outputs": [
    {
     "data": {
      "text/plain": [
       "array([[ 0.93261019,  0.89475139, -2.30567945,  0.51338072,  0.96632423],\n",
       "       [-0.20730973,  0.80692448,  1.45668306,  0.66857447,  0.80141575],\n",
       "       [-0.4828191 , -1.11661027, -0.12212261, -0.06092184,  0.56715903]])"
      ]
     },
     "execution_count": 4,
     "metadata": {},
     "output_type": "execute_result"
    }
   ],
   "source": [
    "n = np.random.randn(3,5)\n",
    "n"
   ]
  },
  {
   "cell_type": "code",
   "execution_count": null,
   "id": "65bed67b",
   "metadata": {},
   "outputs": [],
   "source": [
    "# 파이썬 경로는 / 구분"
   ]
  },
  {
   "cell_type": "markdown",
   "id": "03356f7c",
   "metadata": {},
   "source": [
    "# 저장"
   ]
  },
  {
   "cell_type": "code",
   "execution_count": 5,
   "id": "30c0b15d",
   "metadata": {},
   "outputs": [],
   "source": [
    "# 'C:/Users/Admin/code/WebApp/Python'\n",
    "filepath = './n.npy'\n",
    "n.tofile(filepath)"
   ]
  },
  {
   "cell_type": "markdown",
   "id": "9c6f07a3",
   "metadata": {},
   "source": [
    "# 불러오기"
   ]
  },
  {
   "cell_type": "code",
   "execution_count": 7,
   "id": "a500fcd5",
   "metadata": {},
   "outputs": [
    {
     "name": "stdout",
     "output_type": "stream",
     "text": [
      "[ 0.93261019  0.89475139 -2.30567945  0.51338072  0.96632423 -0.20730973\n",
      "  0.80692448  1.45668306  0.66857447  0.80141575 -0.4828191  -1.11661027\n",
      " -0.12212261 -0.06092184  0.56715903]\n"
     ]
    }
   ],
   "source": [
    "m= np.fromfile('n.npy')\n",
    "print(m)"
   ]
  },
  {
   "cell_type": "code",
   "execution_count": null,
   "id": "9cbdd503",
   "metadata": {},
   "outputs": [],
   "source": [
    "# shape 바꿔서 나옴"
   ]
  },
  {
   "cell_type": "markdown",
   "id": "c7e69794",
   "metadata": {},
   "source": [
    "# np.save, np.load\n",
    "shape 유지\n",
    "file 과 연동시 오류 생김"
   ]
  },
  {
   "cell_type": "code",
   "execution_count": 8,
   "id": "34fbe4d2",
   "metadata": {},
   "outputs": [
    {
     "name": "stdout",
     "output_type": "stream",
     "text": [
      "[[ 0.93261019  0.89475139 -2.30567945  0.51338072  0.96632423]\n",
      " [-0.20730973  0.80692448  1.45668306  0.66857447  0.80141575]\n",
      " [-0.4828191  -1.11661027 -0.12212261 -0.06092184  0.56715903]]\n"
     ]
    }
   ],
   "source": [
    "np.save('n1.npy',n)\n",
    "m1 = np.load('n1.npy')\n",
    "print(m1)"
   ]
  },
  {
   "cell_type": "markdown",
   "id": "47c83823",
   "metadata": {},
   "source": [
    "# 텍스트 저장\n",
    "csv 가능"
   ]
  },
  {
   "cell_type": "code",
   "execution_count": 9,
   "id": "d7b68b8c",
   "metadata": {},
   "outputs": [],
   "source": [
    "np.savetxt('n1.txt',n)"
   ]
  },
  {
   "cell_type": "code",
   "execution_count": 12,
   "id": "72188989",
   "metadata": {},
   "outputs": [
    {
     "data": {
      "text/plain": [
       "array([[ 0.93261019,  0.89475139, -2.30567945,  0.51338072,  0.96632423],\n",
       "       [-0.20730973,  0.80692448,  1.45668306,  0.66857447,  0.80141575],\n",
       "       [-0.4828191 , -1.11661027, -0.12212261, -0.06092184,  0.56715903]])"
      ]
     },
     "execution_count": 12,
     "metadata": {},
     "output_type": "execute_result"
    }
   ],
   "source": [
    "m1 = np.loadtxt('n1.txt')\n",
    "m1"
   ]
  },
  {
   "cell_type": "code",
   "execution_count": 15,
   "id": "eb73e75c",
   "metadata": {},
   "outputs": [],
   "source": [
    "# delimiter 구분 가능하게\n",
    "np.savetxt('n1.csv',n,delimiter=',')\n",
    "# 불러올땐 ,dtype=str 가능"
   ]
  },
  {
   "cell_type": "code",
   "execution_count": 17,
   "id": "9908ced0",
   "metadata": {},
   "outputs": [],
   "source": [
    "np.savetxt('data.csv',np.arange(1,26,).reshape(5,5),delimiter=',')"
   ]
  },
  {
   "cell_type": "code",
   "execution_count": 18,
   "id": "76d07a94",
   "metadata": {},
   "outputs": [
    {
     "data": {
      "text/plain": [
       "array(['1.000000000000000000e+00,2.000000000000000000e+00,3.000000000000000000e+00,4.000000000000000000e+00,5.000000000000000000e+00',\n",
       "       '6.000000000000000000e+00,7.000000000000000000e+00,8.000000000000000000e+00,9.000000000000000000e+00,1.000000000000000000e+01',\n",
       "       '1.100000000000000000e+01,1.200000000000000000e+01,1.300000000000000000e+01,1.400000000000000000e+01,1.500000000000000000e+01',\n",
       "       '1.600000000000000000e+01,1.700000000000000000e+01,1.800000000000000000e+01,1.900000000000000000e+01,2.000000000000000000e+01',\n",
       "       '2.100000000000000000e+01,2.200000000000000000e+01,2.300000000000000000e+01,2.400000000000000000e+01,2.500000000000000000e+01'],\n",
       "      dtype='<U124')"
      ]
     },
     "execution_count": 18,
     "metadata": {},
     "output_type": "execute_result"
    }
   ],
   "source": [
    "arr1=np.loadtxt('data.csv',dtype=str)\n",
    "arr1"
   ]
  },
  {
   "cell_type": "code",
   "execution_count": null,
   "id": "01f89fb2",
   "metadata": {},
   "outputs": [],
   "source": [
    "# 중복 지역 확인\n",
    "np.unique"
   ]
  },
  {
   "cell_type": "code",
   "execution_count": 7,
   "id": "3ffd520a",
   "metadata": {},
   "outputs": [
    {
     "name": "stdout",
     "output_type": "stream",
     "text": [
      "[[      1  565082     273   27177]\n",
      " [      2 2827233     444   45111]\n",
      " [      3 1144913     289   29043]\n",
      " [      4 1131034     230   22436]\n",
      " [      5  380425     391   38020]]\n"
     ]
    }
   ],
   "source": [
    "data = np.loadtxt('ex1_지역별전기요금.csv',delimiter=',',dtype=np.int32)\n",
    "print(data[:5,:])"
   ]
  },
  {
   "cell_type": "code",
   "execution_count": 23,
   "id": "8b2f2523",
   "metadata": {},
   "outputs": [
    {
     "data": {
      "text/plain": [
       "array([[      1,  565082,     273,   27177],\n",
       "       [      2, 2827233,     444,   45111],\n",
       "       [      3, 1144913,     289,   29043],\n",
       "       [      4, 1131034,     230,   22436],\n",
       "       [      5,  380425,     391,   38020],\n",
       "       [      6,  668623,     364,   35245],\n",
       "       [      7,  425659,     344,   32331],\n",
       "       [      8,  947300,     366,   36274],\n",
       "       [      9, 2737725,     361,   36569],\n",
       "       [     10,   49394,     580,   57091],\n",
       "       [     11,  323151,     353,   35470],\n",
       "       [     12,  734723,     398,   40049],\n",
       "       [     13,  726699,     249,   25120],\n",
       "       [     14,  634696,     285,   28556],\n",
       "       [     15,  258605,     221,   22180],\n",
       "       [     16,  742285,     282,   27901],\n",
       "       [     17,  584500,     268,   26899]])"
      ]
     },
     "execution_count": 23,
     "metadata": {},
     "output_type": "execute_result"
    }
   ],
   "source": [
    "data"
   ]
  },
  {
   "cell_type": "code",
   "execution_count": 8,
   "id": "16c52701",
   "metadata": {},
   "outputs": [
    {
     "data": {
      "text/plain": [
       "(17, 4)"
      ]
     },
     "execution_count": 8,
     "metadata": {},
     "output_type": "execute_result"
    }
   ],
   "source": [
    "data.shape"
   ]
  },
  {
   "cell_type": "code",
   "execution_count": 16,
   "id": "afdad95d",
   "metadata": {},
   "outputs": [
    {
     "data": {
      "text/plain": [
       "17"
      ]
     },
     "execution_count": 16,
     "metadata": {},
     "output_type": "execute_result"
    }
   ],
   "source": [
    "len(np.unique(data[:,0]))"
   ]
  },
  {
   "cell_type": "code",
   "execution_count": 17,
   "id": "78adb0ee",
   "metadata": {},
   "outputs": [
    {
     "data": {
      "text/plain": [
       "array([4, 5, 0, 1, 3, 2, 6], dtype=int64)"
      ]
     },
     "execution_count": 17,
     "metadata": {},
     "output_type": "execute_result"
    }
   ],
   "source": [
    "# 작은 순서를 자리번호로 표시\n",
    "np.argsort([1,2,6,3,0,0,10])"
   ]
  },
  {
   "cell_type": "code",
   "execution_count": 22,
   "id": "7bdaf702",
   "metadata": {},
   "outputs": [
    {
     "data": {
      "text/plain": [
       "array([ 9, 14, 10,  4,  6,  0, 16, 13,  5, 12, 11, 15,  7,  3,  2,  8,  1],\n",
       "      dtype=int64)"
      ]
     },
     "execution_count": 22,
     "metadata": {},
     "output_type": "execute_result"
    }
   ],
   "source": [
    "data_1 = np.argsort(data[:,1])\n",
    "data_1"
   ]
  },
  {
   "cell_type": "code",
   "execution_count": 21,
   "id": "96b640e6",
   "metadata": {},
   "outputs": [
    {
     "data": {
      "text/plain": [
       "array([[     10,   49394,     580,   57091],\n",
       "       [     15,  258605,     221,   22180],\n",
       "       [     11,  323151,     353,   35470],\n",
       "       [      5,  380425,     391,   38020],\n",
       "       [      7,  425659,     344,   32331],\n",
       "       [      1,  565082,     273,   27177],\n",
       "       [     17,  584500,     268,   26899],\n",
       "       [     14,  634696,     285,   28556],\n",
       "       [      6,  668623,     364,   35245],\n",
       "       [     13,  726699,     249,   25120],\n",
       "       [     12,  734723,     398,   40049],\n",
       "       [     16,  742285,     282,   27901],\n",
       "       [      8,  947300,     366,   36274],\n",
       "       [      4, 1131034,     230,   22436],\n",
       "       [      3, 1144913,     289,   29043],\n",
       "       [      9, 2737725,     361,   36569],\n",
       "       [      2, 2827233,     444,   45111]])"
      ]
     },
     "execution_count": 21,
     "metadata": {},
     "output_type": "execute_result"
    }
   ],
   "source": [
    "data[data_1]"
   ]
  },
  {
   "cell_type": "code",
   "execution_count": 24,
   "id": "0b373422",
   "metadata": {},
   "outputs": [
    {
     "data": {
      "text/plain": [
       "array([[     17,     268,   26899,  584500],\n",
       "       [     16,     282,   27901,  742285],\n",
       "       [     15,     221,   22180,  258605],\n",
       "       [     14,     285,   28556,  634696],\n",
       "       [     13,     249,   25120,  726699],\n",
       "       [     12,     398,   40049,  734723],\n",
       "       [     11,     353,   35470,  323151],\n",
       "       [     10,     580,   49394,   57091],\n",
       "       [      9,     361,   36569, 2737725],\n",
       "       [      8,     366,   36274,  947300],\n",
       "       [      7,     344,   32331,  425659],\n",
       "       [      6,     364,   35245,  668623],\n",
       "       [      5,     391,   38020,  380425],\n",
       "       [      4,     230,   22436, 1131034],\n",
       "       [      3,     289,   29043, 1144913],\n",
       "       [      2,     444,   45111, 2827233],\n",
       "       [      1,     273,   27177,  565082]])"
      ]
     },
     "execution_count": 24,
     "metadata": {},
     "output_type": "execute_result"
    }
   ],
   "source": [
    "# 내림차순\n",
    "np.sort(data[:,:])[::-1]"
   ]
  },
  {
   "cell_type": "code",
   "execution_count": 25,
   "id": "29ba1148",
   "metadata": {},
   "outputs": [
    {
     "data": {
      "text/plain": [
       "array([ 1,  8,  2,  3,  7, 15, 11, 12,  5, 13, 16,  0,  6,  4, 10, 14,  9],\n",
       "      dtype=int64)"
      ]
     },
     "execution_count": 25,
     "metadata": {},
     "output_type": "execute_result"
    }
   ],
   "source": [
    "data_2 = np.argsort(data[:,1])[::-1]\n",
    "data_2"
   ]
  },
  {
   "cell_type": "code",
   "execution_count": 26,
   "id": "7e8388ec",
   "metadata": {},
   "outputs": [
    {
     "data": {
      "text/plain": [
       "14882047"
      ]
     },
     "execution_count": 26,
     "metadata": {},
     "output_type": "execute_result"
    }
   ],
   "source": [
    "np.sum(data[:,1])"
   ]
  },
  {
   "cell_type": "code",
   "execution_count": 33,
   "id": "f0f37194",
   "metadata": {},
   "outputs": [
    {
     "name": "stdout",
     "output_type": "stream",
     "text": [
      "335.1764705882353\n",
      "335.18\n"
     ]
    }
   ],
   "source": [
    "print(data[:,2].mean())\n",
    "print(round(data[:,2].mean(),2))"
   ]
  },
  {
   "cell_type": "code",
   "execution_count": 37,
   "id": "2961dfe9",
   "metadata": {},
   "outputs": [
    {
     "data": {
      "text/plain": [
       "array([[      2, 2827233,     444,   45111],\n",
       "       [      5,  380425,     391,   38020],\n",
       "       [      6,  668623,     364,   35245],\n",
       "       [      7,  425659,     344,   32331],\n",
       "       [      8,  947300,     366,   36274],\n",
       "       [      9, 2737725,     361,   36569],\n",
       "       [     10,   49394,     580,   57091],\n",
       "       [     11,  323151,     353,   35470],\n",
       "       [     12,  734723,     398,   40049]])"
      ]
     },
     "execution_count": 37,
     "metadata": {},
     "output_type": "execute_result"
    }
   ],
   "source": [
    "a = data[:,2] > data[:,2].mean()\n",
    "data[a]"
   ]
  },
  {
   "cell_type": "code",
   "execution_count": 60,
   "id": "fa3ede39",
   "metadata": {},
   "outputs": [
    {
     "data": {
      "text/plain": [
       "array([[ 2.014e+03,  1.000e+00,  2.180e+02,  4.800e+00, -9.000e+00,\n",
       "        -4.000e+00],\n",
       "       [ 2.014e+03,  2.000e+00,  8.720e+02,  1.900e+01, -4.500e+01,\n",
       "        -4.900e+00],\n",
       "       [ 2.014e+03,  3.000e+00,  4.010e+02,  8.700e+00, -4.500e+01,\n",
       "        -1.010e+01],\n",
       "       [ 2.014e+03,  4.000e+00,  4.640e+02,  1.010e+01, -4.100e+01,\n",
       "        -8.100e+00],\n",
       "       [ 2.014e+03,  5.000e+00,  9.900e+01,  2.200e+00, -5.000e+00,\n",
       "        -4.800e+00],\n",
       "       [ 2.014e+03,  6.000e+00,  1.820e+02,  4.000e+00,  1.900e+01,\n",
       "         1.170e+01],\n",
       "       [ 2.014e+03,  7.000e+00,  9.900e+01,  2.200e+00,  8.000e+00,\n",
       "         8.800e+00],\n",
       "       [ 2.014e+03,  8.000e+00,  1.630e+02,  3.600e+00, -4.700e+01,\n",
       "        -2.240e+01],\n",
       "       [ 2.014e+03,  9.000e+00,  3.860e+02,  8.400e+00,  1.400e+01,\n",
       "         3.800e+00],\n",
       "       [ 2.014e+03,  1.000e+01,  2.000e+01,  4.000e-01,  0.000e+00,\n",
       "         0.000e+00],\n",
       "       [ 2.014e+03,  1.100e+01,  1.030e+02,  2.200e+00, -1.600e+01,\n",
       "        -1.340e+01],\n",
       "       [ 2.014e+03,  1.200e+01,  1.440e+02,  3.100e+00, -6.000e+00,\n",
       "        -4.000e+00],\n",
       "       [ 2.014e+03,  1.300e+01,  4.000e+02,  8.700e+00, -3.500e+01,\n",
       "        -8.000e+00],\n",
       "       [ 2.014e+03,  1.400e+01,  3.170e+02,  6.900e+00, -3.500e+01,\n",
       "        -9.900e+00],\n",
       "       [ 2.014e+03,  1.500e+01,  8.600e+01,  1.900e+00, -1.400e+01,\n",
       "        -1.400e+01],\n",
       "       [ 2.014e+03,  1.600e+01,  3.870e+02,  8.400e+00, -5.000e+00,\n",
       "        -1.300e+00],\n",
       "       [ 2.014e+03,  1.700e+01,  2.420e+02,  5.300e+00, -3.100e+01,\n",
       "        -1.140e+01]])"
      ]
     },
     "execution_count": 60,
     "metadata": {},
     "output_type": "execute_result"
    }
   ],
   "source": [
    "data2=np.loadtxt('ex2_전년대비_시도별_교통사망사고.csv',delimiter=',')\n",
    "data2"
   ]
  },
  {
   "cell_type": "code",
   "execution_count": 63,
   "id": "8c6d80ad",
   "metadata": {},
   "outputs": [
    {
     "data": {
      "text/plain": [
       "array([[2014. ,    4. ,  464. ,   10.1,  -41. ,   -8.1]])"
      ]
     },
     "execution_count": 63,
     "metadata": {},
     "output_type": "execute_result"
    }
   ],
   "source": [
    "data2[data2[:,1] ==4]"
   ]
  },
  {
   "cell_type": "code",
   "execution_count": 73,
   "id": "5805a46d",
   "metadata": {},
   "outputs": [
    {
     "data": {
      "text/plain": [
       "4583.0"
      ]
     },
     "execution_count": 73,
     "metadata": {},
     "output_type": "execute_result"
    }
   ],
   "source": [
    "data2[:,2].sum()"
   ]
  },
  {
   "cell_type": "code",
   "execution_count": 71,
   "id": "2eceefd8",
   "metadata": {},
   "outputs": [
    {
     "data": {
      "text/plain": [
       "269.5882352941176"
      ]
     },
     "execution_count": 71,
     "metadata": {},
     "output_type": "execute_result"
    }
   ],
   "source": [
    "data2[:,2].mean()"
   ]
  },
  {
   "cell_type": "code",
   "execution_count": 75,
   "id": "016334ae",
   "metadata": {},
   "outputs": [
    {
     "data": {
      "text/plain": [
       "array([[2014. ,    6. ,  182. ,    4. ,   19. ,   11.7]])"
      ]
     },
     "execution_count": 75,
     "metadata": {},
     "output_type": "execute_result"
    }
   ],
   "source": [
    "data2[data2[:,4] == max(data2[:,4])]"
   ]
  },
  {
   "cell_type": "code",
   "execution_count": 77,
   "id": "605c35c7",
   "metadata": {},
   "outputs": [
    {
     "data": {
      "text/plain": [
       "array([2014. ,    6. ,  182. ,    4. ,   19. ,   11.7])"
      ]
     },
     "execution_count": 77,
     "metadata": {},
     "output_type": "execute_result"
    }
   ],
   "source": [
    "data2[np.argmax(data2[:,4])]"
   ]
  },
  {
   "cell_type": "code",
   "execution_count": 87,
   "id": "4c29a66f",
   "metadata": {},
   "outputs": [
    {
     "data": {
      "text/plain": [
       "array([[872. , -45. ,  -4.9],\n",
       "       [401. , -45. , -10.1],\n",
       "       [464. , -41. ,  -8.1]])"
      ]
     },
     "execution_count": 87,
     "metadata": {},
     "output_type": "execute_result"
    }
   ],
   "source": [
    "data2[(data2[:,2]>400)][:,[2,4,5]]"
   ]
  },
  {
   "cell_type": "code",
   "execution_count": null,
   "id": "d1bad6ac",
   "metadata": {},
   "outputs": [],
   "source": []
  },
  {
   "cell_type": "code",
   "execution_count": null,
   "id": "c8756af3",
   "metadata": {},
   "outputs": [],
   "source": []
  }
 ],
 "metadata": {
  "kernelspec": {
   "display_name": "Python 3 (ipykernel)",
   "language": "python",
   "name": "python3"
  },
  "language_info": {
   "codemirror_mode": {
    "name": "ipython",
    "version": 3
   },
   "file_extension": ".py",
   "mimetype": "text/x-python",
   "name": "python",
   "nbconvert_exporter": "python",
   "pygments_lexer": "ipython3",
   "version": "3.9.12"
  }
 },
 "nbformat": 4,
 "nbformat_minor": 5
}
