{
 "cells": [
  {
   "cell_type": "code",
   "execution_count": 6,
   "id": "f6c24d30",
   "metadata": {},
   "outputs": [
    {
     "name": "stdout",
     "output_type": "stream",
     "text": [
      "랜덤 포레스트 정확도: 0.9561\n"
     ]
    }
   ],
   "source": [
    "from sklearn.ensemble import RandomForestClassifier\n",
    "from sklearn.metrics import accuracy_score\n",
    "import pandas as pd\n",
    "from sklearn.datasets import load_breast_cancer\n",
    "from sklearn.model_selection import train_test_split\n",
    "\n",
    "cancer = load_breast_cancer()\n",
    "data_df = pd.DataFrame(cancer.data, columns=cancer.feature_names)\n",
    "X_train, X_test, y_train, y_test = train_test_split(cancer.data, cancer.target, \n",
    "                                                    test_size=0.2 , random_state= 156)\n",
    "\n",
    "rf_clf = RandomForestClassifier(random_state=0)\n",
    "rf_clf.fit(X_train , y_train)\n",
    "pred = rf_clf.predict(X_test)\n",
    "accuracy = accuracy_score(y_test , pred)\n",
    "print(f'랜덤 포레스트 정확도: {accuracy:.4f}')"
   ]
  },
  {
   "cell_type": "code",
   "execution_count": 12,
   "id": "e45ec2bd",
   "metadata": {},
   "outputs": [
    {
     "name": "stdout",
     "output_type": "stream",
     "text": [
      "랜덤 포레스트 정확도: 0.9386\n"
     ]
    }
   ],
   "source": [
    "rf_clf1 = RandomForestClassifier(n_estimators = 500,\n",
    "                                max_depth = 6,\n",
    "                                min_samples_leaf = 8,\n",
    "                                min_samples_split = 5,\n",
    "                                random_state=0)\n",
    "\n",
    "rf_clf1.fit(X_train , y_train)\n",
    "pred = rf_clf1.predict(X_test)\n",
    "accuracy = accuracy_score(y_test , pred)\n",
    "print(f'랜덤 포레스트 정확도: {accuracy:.4f}')"
   ]
  },
  {
   "cell_type": "code",
   "execution_count": 13,
   "id": "224a4e3c",
   "metadata": {},
   "outputs": [
    {
     "data": {
      "text/plain": [
       "(455, 30)"
      ]
     },
     "execution_count": 13,
     "metadata": {},
     "output_type": "execute_result"
    }
   ],
   "source": [
    "X_train.shape"
   ]
  },
  {
   "cell_type": "code",
   "execution_count": 16,
   "id": "2cbbb72a",
   "metadata": {},
   "outputs": [
    {
     "data": {
      "text/html": [
       "<style>#sk-container-id-1 {color: black;background-color: white;}#sk-container-id-1 pre{padding: 0;}#sk-container-id-1 div.sk-toggleable {background-color: white;}#sk-container-id-1 label.sk-toggleable__label {cursor: pointer;display: block;width: 100%;margin-bottom: 0;padding: 0.3em;box-sizing: border-box;text-align: center;}#sk-container-id-1 label.sk-toggleable__label-arrow:before {content: \"▸\";float: left;margin-right: 0.25em;color: #696969;}#sk-container-id-1 label.sk-toggleable__label-arrow:hover:before {color: black;}#sk-container-id-1 div.sk-estimator:hover label.sk-toggleable__label-arrow:before {color: black;}#sk-container-id-1 div.sk-toggleable__content {max-height: 0;max-width: 0;overflow: hidden;text-align: left;background-color: #f0f8ff;}#sk-container-id-1 div.sk-toggleable__content pre {margin: 0.2em;color: black;border-radius: 0.25em;background-color: #f0f8ff;}#sk-container-id-1 input.sk-toggleable__control:checked~div.sk-toggleable__content {max-height: 200px;max-width: 100%;overflow: auto;}#sk-container-id-1 input.sk-toggleable__control:checked~label.sk-toggleable__label-arrow:before {content: \"▾\";}#sk-container-id-1 div.sk-estimator input.sk-toggleable__control:checked~label.sk-toggleable__label {background-color: #d4ebff;}#sk-container-id-1 div.sk-label input.sk-toggleable__control:checked~label.sk-toggleable__label {background-color: #d4ebff;}#sk-container-id-1 input.sk-hidden--visually {border: 0;clip: rect(1px 1px 1px 1px);clip: rect(1px, 1px, 1px, 1px);height: 1px;margin: -1px;overflow: hidden;padding: 0;position: absolute;width: 1px;}#sk-container-id-1 div.sk-estimator {font-family: monospace;background-color: #f0f8ff;border: 1px dotted black;border-radius: 0.25em;box-sizing: border-box;margin-bottom: 0.5em;}#sk-container-id-1 div.sk-estimator:hover {background-color: #d4ebff;}#sk-container-id-1 div.sk-parallel-item::after {content: \"\";width: 100%;border-bottom: 1px solid gray;flex-grow: 1;}#sk-container-id-1 div.sk-label:hover label.sk-toggleable__label {background-color: #d4ebff;}#sk-container-id-1 div.sk-serial::before {content: \"\";position: absolute;border-left: 1px solid gray;box-sizing: border-box;top: 0;bottom: 0;left: 50%;z-index: 0;}#sk-container-id-1 div.sk-serial {display: flex;flex-direction: column;align-items: center;background-color: white;padding-right: 0.2em;padding-left: 0.2em;position: relative;}#sk-container-id-1 div.sk-item {position: relative;z-index: 1;}#sk-container-id-1 div.sk-parallel {display: flex;align-items: stretch;justify-content: center;background-color: white;position: relative;}#sk-container-id-1 div.sk-item::before, #sk-container-id-1 div.sk-parallel-item::before {content: \"\";position: absolute;border-left: 1px solid gray;box-sizing: border-box;top: 0;bottom: 0;left: 50%;z-index: -1;}#sk-container-id-1 div.sk-parallel-item {display: flex;flex-direction: column;z-index: 1;position: relative;background-color: white;}#sk-container-id-1 div.sk-parallel-item:first-child::after {align-self: flex-end;width: 50%;}#sk-container-id-1 div.sk-parallel-item:last-child::after {align-self: flex-start;width: 50%;}#sk-container-id-1 div.sk-parallel-item:only-child::after {width: 0;}#sk-container-id-1 div.sk-dashed-wrapped {border: 1px dashed gray;margin: 0 0.4em 0.5em 0.4em;box-sizing: border-box;padding-bottom: 0.4em;background-color: white;}#sk-container-id-1 div.sk-label label {font-family: monospace;font-weight: bold;display: inline-block;line-height: 1.2em;}#sk-container-id-1 div.sk-label-container {text-align: center;}#sk-container-id-1 div.sk-container {/* jupyter's `normalize.less` sets `[hidden] { display: none; }` but bootstrap.min.css set `[hidden] { display: none !important; }` so we also need the `!important` here to be able to override the default hidden behavior on the sphinx rendered scikit-learn.org. See: https://github.com/scikit-learn/scikit-learn/issues/21755 */display: inline-block !important;position: relative;}#sk-container-id-1 div.sk-text-repr-fallback {display: none;}</style><div id=\"sk-container-id-1\" class=\"sk-top-container\"><div class=\"sk-text-repr-fallback\"><pre>GridSearchCV(cv=3, estimator=RandomForestClassifier(random_state=0),\n",
       "             param_grid={&#x27;max_depth&#x27;: [6, 8, 10, 12],\n",
       "                         &#x27;min_samples_leaf&#x27;: [8, 12, 18],\n",
       "                         &#x27;min_samples_split&#x27;: [8, 16, 20],\n",
       "                         &#x27;n_estimators&#x27;: [100]})</pre><b>In a Jupyter environment, please rerun this cell to show the HTML representation or trust the notebook. <br />On GitHub, the HTML representation is unable to render, please try loading this page with nbviewer.org.</b></div><div class=\"sk-container\" hidden><div class=\"sk-item sk-dashed-wrapped\"><div class=\"sk-label-container\"><div class=\"sk-label sk-toggleable\"><input class=\"sk-toggleable__control sk-hidden--visually\" id=\"sk-estimator-id-1\" type=\"checkbox\" ><label for=\"sk-estimator-id-1\" class=\"sk-toggleable__label sk-toggleable__label-arrow\">GridSearchCV</label><div class=\"sk-toggleable__content\"><pre>GridSearchCV(cv=3, estimator=RandomForestClassifier(random_state=0),\n",
       "             param_grid={&#x27;max_depth&#x27;: [6, 8, 10, 12],\n",
       "                         &#x27;min_samples_leaf&#x27;: [8, 12, 18],\n",
       "                         &#x27;min_samples_split&#x27;: [8, 16, 20],\n",
       "                         &#x27;n_estimators&#x27;: [100]})</pre></div></div></div><div class=\"sk-parallel\"><div class=\"sk-parallel-item\"><div class=\"sk-item\"><div class=\"sk-label-container\"><div class=\"sk-label sk-toggleable\"><input class=\"sk-toggleable__control sk-hidden--visually\" id=\"sk-estimator-id-2\" type=\"checkbox\" ><label for=\"sk-estimator-id-2\" class=\"sk-toggleable__label sk-toggleable__label-arrow\">estimator: RandomForestClassifier</label><div class=\"sk-toggleable__content\"><pre>RandomForestClassifier(random_state=0)</pre></div></div></div><div class=\"sk-serial\"><div class=\"sk-item\"><div class=\"sk-estimator sk-toggleable\"><input class=\"sk-toggleable__control sk-hidden--visually\" id=\"sk-estimator-id-3\" type=\"checkbox\" ><label for=\"sk-estimator-id-3\" class=\"sk-toggleable__label sk-toggleable__label-arrow\">RandomForestClassifier</label><div class=\"sk-toggleable__content\"><pre>RandomForestClassifier(random_state=0)</pre></div></div></div></div></div></div></div></div></div></div>"
      ],
      "text/plain": [
       "GridSearchCV(cv=3, estimator=RandomForestClassifier(random_state=0),\n",
       "             param_grid={'max_depth': [6, 8, 10, 12],\n",
       "                         'min_samples_leaf': [8, 12, 18],\n",
       "                         'min_samples_split': [8, 16, 20],\n",
       "                         'n_estimators': [100]})"
      ]
     },
     "execution_count": 16,
     "metadata": {},
     "output_type": "execute_result"
    }
   ],
   "source": [
    "from sklearn.model_selection import GridSearchCV\n",
    "\n",
    "params = { 'n_estimators':[100],\n",
    "            'max_depth' : [6, 8, 10, 12], \n",
    "            'min_samples_leaf' : [8, 12, 18 ],\n",
    "            'min_samples_split' : [8, 16, 20]}\n",
    "\n",
    "rf_clf1 = RandomForestClassifier(random_state = 0)\n",
    "\n",
    "grid_cv = GridSearchCV(rf_clf1, param_grid= params, cv = 3)\n",
    "grid_cv.fit(X_train, y_train)"
   ]
  },
  {
   "cell_type": "code",
   "execution_count": 17,
   "id": "769a30de",
   "metadata": {},
   "outputs": [
    {
     "data": {
      "text/plain": [
       "0.9385964912280702"
      ]
     },
     "execution_count": 17,
     "metadata": {},
     "output_type": "execute_result"
    }
   ],
   "source": [
    "pred = grid_cv.predict(X_test)\n",
    "accuracy_score(pred, y_test)"
   ]
  },
  {
   "cell_type": "code",
   "execution_count": 20,
   "id": "234853cd",
   "metadata": {},
   "outputs": [
    {
     "data": {
      "text/plain": [
       "array([1, 0, 1, 0, 1, 1, 1, 1, 1, 0, 0, 0, 1, 1, 1, 1, 1, 1, 1, 1, 0, 0,\n",
       "       0, 1, 0, 1, 0, 0, 1, 0, 1, 0, 1, 0, 0, 0, 1, 1, 0, 1, 0, 1, 1, 1,\n",
       "       1, 1, 0, 1, 1, 1, 1, 0, 1, 1, 1, 1, 1, 1, 1, 1, 1, 1, 0, 0, 1, 1,\n",
       "       0, 1, 1, 1, 0, 1, 0, 1, 1, 0, 1, 1, 1, 0, 0, 1, 1, 1, 1, 1, 1, 1,\n",
       "       1, 0, 0, 1, 0, 0, 1, 0, 0, 1, 0, 1, 0, 0, 1, 1, 1, 1, 1, 1, 1, 1,\n",
       "       0, 1, 1, 1])"
      ]
     },
     "execution_count": 20,
     "metadata": {},
     "output_type": "execute_result"
    }
   ],
   "source": [
    "model = grid_cv.best_estimator_\n",
    "model.predict(X_test)"
   ]
  },
  {
   "cell_type": "code",
   "execution_count": 21,
   "id": "bb765edd",
   "metadata": {},
   "outputs": [
    {
     "data": {
      "text/plain": [
       "{'max_depth': 6,\n",
       " 'min_samples_leaf': 8,\n",
       " 'min_samples_split': 8,\n",
       " 'n_estimators': 100}"
      ]
     },
     "execution_count": 21,
     "metadata": {},
     "output_type": "execute_result"
    }
   ],
   "source": [
    "grid_cv.best_params_"
   ]
  },
  {
   "cell_type": "code",
   "execution_count": 22,
   "id": "31c9dc1f",
   "metadata": {},
   "outputs": [
    {
     "data": {
      "text/plain": [
       "0.9494887881956547"
      ]
     },
     "execution_count": 22,
     "metadata": {},
     "output_type": "execute_result"
    }
   ],
   "source": [
    "grid_cv.best_score_"
   ]
  },
  {
   "cell_type": "code",
   "execution_count": 23,
   "id": "a4346c09",
   "metadata": {},
   "outputs": [
    {
     "data": {
      "text/plain": [
       "array([0.03278919, 0.01514508, 0.06962088, 0.04437244, 0.00453718,\n",
       "       0.00487869, 0.06173446, 0.10413769, 0.00374702, 0.00315282,\n",
       "       0.01996887, 0.00364285, 0.01578267, 0.04108457, 0.00468091,\n",
       "       0.00379866, 0.00402008, 0.00401681, 0.00520439, 0.0040683 ,\n",
       "       0.11382906, 0.01373117, 0.1736531 , 0.0614656 , 0.00988109,\n",
       "       0.01588499, 0.02413248, 0.1175149 , 0.01010107, 0.00942297])"
      ]
     },
     "execution_count": 23,
     "metadata": {},
     "output_type": "execute_result"
    }
   ],
   "source": [
    "rf_clf.feature_importances_"
   ]
  },
  {
   "cell_type": "code",
   "execution_count": 24,
   "id": "0f1f2146",
   "metadata": {},
   "outputs": [
    {
     "name": "stdout",
     "output_type": "stream",
     "text": [
      "GBM 정확도: 0.9561\n",
      "GBM 수행 시간: 0.3 초 \n"
     ]
    }
   ],
   "source": [
    "from sklearn.ensemble import GradientBoostingClassifier\n",
    "import time\n",
    "import warnings\n",
    "warnings.filterwarnings('ignore')\n",
    "\n",
    "\n",
    "start_time = time.time()\n",
    "gb_clf = GradientBoostingClassifier(random_state=0)\n",
    "gb_clf.fit(X_train , y_train)\n",
    "gb_pred = gb_clf.predict(X_test)\n",
    "gb_accuracy = accuracy_score(y_test, gb_pred)\n",
    "print(f'GBM 정확도: {gb_accuracy:.4f}')\n",
    "print(f\"GBM 수행 시간: {time.time() - start_time:.1f} 초 \")"
   ]
  },
  {
   "cell_type": "code",
   "execution_count": 25,
   "id": "ca452c6b",
   "metadata": {},
   "outputs": [],
   "source": [
    "import xgboost"
   ]
  },
  {
   "cell_type": "code",
   "execution_count": 26,
   "id": "cafc4e9e",
   "metadata": {},
   "outputs": [],
   "source": [
    "import xgboost as xgb\n",
    "from xgboost import plot_importance\n",
    "import pandas as pd\n",
    "import numpy as np\n",
    "from sklearn.datasets import load_breast_cancer\n",
    "from sklearn.model_selection import train_test_split\n",
    "import warnings\n",
    "warnings.filterwarnings('ignore')"
   ]
  },
  {
   "cell_type": "code",
   "execution_count": 27,
   "id": "b87975ed",
   "metadata": {},
   "outputs": [],
   "source": [
    "dataset = load_breast_cancer()\n",
    "X_features= dataset.data\n",
    "y_label = dataset.target\n",
    "cancer_df = pd.DataFrame(data=X_features,\n",
    "columns=dataset.feature_names)\n",
    "cancer_df['target']= y_label\n"
   ]
  },
  {
   "cell_type": "code",
   "execution_count": 28,
   "id": "d85e4bab",
   "metadata": {},
   "outputs": [
    {
     "name": "stdout",
     "output_type": "stream",
     "text": [
      "(455, 30) (114, 30)\n",
      "(409, 30) (46, 30)\n"
     ]
    }
   ],
   "source": [
    "X_features = cancer_df.iloc[:, :-1]\n",
    "y_label = cancer_df.iloc[:, -1]\n",
    "\n",
    "X_train, X_test, y_train, y_test=train_test_split(X_features,\n",
    "y_label, test_size=0.2, random_state=156)\n",
    "\n",
    "X_tr, X_val, y_tr, y_val= train_test_split(X_train, y_train, \n",
    "test_size=0.1, random_state=156)\n",
    "\n",
    "\n",
    "print(X_train.shape , X_test.shape)\n",
    "print(X_tr.shape, X_val.shape)\n"
   ]
  },
  {
   "cell_type": "code",
   "execution_count": 29,
   "id": "5085cd83",
   "metadata": {},
   "outputs": [
    {
     "data": {
      "text/plain": [
       "0.08"
      ]
     },
     "execution_count": 29,
     "metadata": {},
     "output_type": "execute_result"
    }
   ],
   "source": [
    "4/5 * 1/10"
   ]
  },
  {
   "cell_type": "code",
   "execution_count": 30,
   "id": "2afdd268",
   "metadata": {},
   "outputs": [],
   "source": [
    "dtr = xgb.DMatrix(data=X_tr, label=y_tr)\n",
    "dval = xgb.DMatrix(data=X_val, label=y_val)\n",
    "dtest = xgb.DMatrix(data=X_test , label=y_test)\n",
    "\n",
    "params = { 'max_depth':3,\n",
    "            'eta': 0.05,\n",
    "            'objective':'binary:logistic',\n",
    "            'eval_metric':'logloss'\n",
    "            }\n",
    "\n",
    "num_rounds = 400\n"
   ]
  },
  {
   "cell_type": "code",
   "execution_count": 31,
   "id": "1a2b2b1e",
   "metadata": {},
   "outputs": [
    {
     "data": {
      "text/plain": [
       "<xgboost.core.DMatrix at 0x1dd5e1cd5e0>"
      ]
     },
     "execution_count": 31,
     "metadata": {},
     "output_type": "execute_result"
    }
   ],
   "source": [
    "dtr"
   ]
  },
  {
   "cell_type": "code",
   "execution_count": 32,
   "id": "11630bc0",
   "metadata": {
    "scrolled": false
   },
   "outputs": [
    {
     "name": "stdout",
     "output_type": "stream",
     "text": [
      "[0]\teval-logloss:0.66183\n",
      "[1]\teval-logloss:0.63609\n",
      "[2]\teval-logloss:0.61144\n",
      "[3]\teval-logloss:0.59204\n",
      "[4]\teval-logloss:0.57329\n",
      "[5]\teval-logloss:0.55037\n",
      "[6]\teval-logloss:0.52929\n",
      "[7]\teval-logloss:0.51534\n",
      "[8]\teval-logloss:0.49718\n",
      "[9]\teval-logloss:0.48154\n",
      "[10]\teval-logloss:0.46990\n",
      "[11]\teval-logloss:0.45474\n",
      "[12]\teval-logloss:0.44229\n",
      "[13]\teval-logloss:0.42961\n",
      "[14]\teval-logloss:0.42065\n",
      "[15]\teval-logloss:0.40958\n",
      "[16]\teval-logloss:0.39887\n",
      "[17]\teval-logloss:0.39050\n",
      "[18]\teval-logloss:0.38254\n",
      "[19]\teval-logloss:0.37393\n",
      "[20]\teval-logloss:0.36789\n",
      "[21]\teval-logloss:0.36017\n",
      "[22]\teval-logloss:0.35421\n",
      "[23]\teval-logloss:0.34683\n",
      "[24]\teval-logloss:0.34111\n",
      "[25]\teval-logloss:0.33634\n",
      "[26]\teval-logloss:0.33082\n",
      "[27]\teval-logloss:0.32675\n",
      "[28]\teval-logloss:0.32099\n",
      "[29]\teval-logloss:0.31671\n",
      "[30]\teval-logloss:0.31277\n",
      "[31]\teval-logloss:0.30882\n",
      "[32]\teval-logloss:0.30437\n",
      "[33]\teval-logloss:0.30103\n",
      "[34]\teval-logloss:0.29794\n",
      "[35]\teval-logloss:0.29499\n",
      "[36]\teval-logloss:0.29295\n",
      "[37]\teval-logloss:0.29043\n",
      "[38]\teval-logloss:0.28927\n",
      "[39]\teval-logloss:0.28578\n",
      "[40]\teval-logloss:0.28364\n",
      "[41]\teval-logloss:0.28183\n",
      "[42]\teval-logloss:0.28005\n",
      "[43]\teval-logloss:0.27972\n",
      "[44]\teval-logloss:0.27744\n",
      "[45]\teval-logloss:0.27542\n",
      "[46]\teval-logloss:0.27504\n",
      "[47]\teval-logloss:0.27458\n",
      "[48]\teval-logloss:0.27348\n",
      "[49]\teval-logloss:0.27247\n",
      "[50]\teval-logloss:0.27163\n",
      "[51]\teval-logloss:0.27094\n",
      "[52]\teval-logloss:0.26967\n",
      "[53]\teval-logloss:0.27008\n",
      "[54]\teval-logloss:0.26890\n",
      "[55]\teval-logloss:0.26854\n",
      "[56]\teval-logloss:0.26900\n",
      "[57]\teval-logloss:0.26790\n",
      "[58]\teval-logloss:0.26663\n",
      "[59]\teval-logloss:0.26743\n",
      "[60]\teval-logloss:0.26610\n",
      "[61]\teval-logloss:0.26644\n",
      "[62]\teval-logloss:0.26673\n",
      "[63]\teval-logloss:0.26550\n",
      "[64]\teval-logloss:0.26443\n",
      "[65]\teval-logloss:0.26500\n",
      "[66]\teval-logloss:0.26591\n",
      "[67]\teval-logloss:0.26501\n",
      "[68]\teval-logloss:0.26435\n",
      "[69]\teval-logloss:0.26360\n",
      "[70]\teval-logloss:0.26319\n",
      "[71]\teval-logloss:0.26255\n",
      "[72]\teval-logloss:0.26204\n",
      "[73]\teval-logloss:0.26254\n",
      "[74]\teval-logloss:0.26289\n",
      "[75]\teval-logloss:0.26249\n",
      "[76]\teval-logloss:0.26217\n",
      "[77]\teval-logloss:0.26166\n",
      "[78]\teval-logloss:0.26179\n",
      "[79]\teval-logloss:0.26103\n",
      "[80]\teval-logloss:0.26094\n",
      "[81]\teval-logloss:0.26148\n",
      "[82]\teval-logloss:0.26054\n",
      "[83]\teval-logloss:0.25967\n",
      "[84]\teval-logloss:0.25905\n",
      "[85]\teval-logloss:0.26007\n",
      "[86]\teval-logloss:0.25984\n",
      "[87]\teval-logloss:0.25933\n",
      "[88]\teval-logloss:0.25932\n",
      "[89]\teval-logloss:0.26002\n",
      "[90]\teval-logloss:0.25936\n",
      "[91]\teval-logloss:0.25886\n",
      "[92]\teval-logloss:0.25918\n",
      "[93]\teval-logloss:0.25865\n",
      "[94]\teval-logloss:0.25951\n",
      "[95]\teval-logloss:0.26091\n",
      "[96]\teval-logloss:0.26014\n",
      "[97]\teval-logloss:0.25974\n",
      "[98]\teval-logloss:0.25937\n",
      "[99]\teval-logloss:0.25893\n",
      "[100]\teval-logloss:0.25928\n",
      "[101]\teval-logloss:0.25955\n",
      "[102]\teval-logloss:0.25901\n",
      "[103]\teval-logloss:0.25991\n",
      "[104]\teval-logloss:0.25950\n",
      "[105]\teval-logloss:0.25924\n",
      "[106]\teval-logloss:0.25901\n",
      "[107]\teval-logloss:0.25738\n",
      "[108]\teval-logloss:0.25702\n",
      "[109]\teval-logloss:0.25789\n",
      "[110]\teval-logloss:0.25770\n",
      "[111]\teval-logloss:0.25842\n",
      "[112]\teval-logloss:0.25810\n",
      "[113]\teval-logloss:0.25848\n",
      "[114]\teval-logloss:0.25833\n",
      "[115]\teval-logloss:0.25820\n",
      "[116]\teval-logloss:0.25905\n",
      "[117]\teval-logloss:0.25878\n",
      "[118]\teval-logloss:0.25728\n",
      "[119]\teval-logloss:0.25722\n",
      "[120]\teval-logloss:0.25764\n",
      "[121]\teval-logloss:0.25761\n",
      "[122]\teval-logloss:0.25832\n",
      "[123]\teval-logloss:0.25808\n",
      "[124]\teval-logloss:0.25855\n",
      "[125]\teval-logloss:0.25714\n",
      "[126]\teval-logloss:0.25587\n",
      "[127]\teval-logloss:0.25640\n",
      "[128]\teval-logloss:0.25685\n",
      "[129]\teval-logloss:0.25665\n",
      "[130]\teval-logloss:0.25712\n",
      "[131]\teval-logloss:0.25609\n",
      "[132]\teval-logloss:0.25649\n",
      "[133]\teval-logloss:0.25789\n",
      "[134]\teval-logloss:0.25811\n",
      "[135]\teval-logloss:0.25794\n",
      "[136]\teval-logloss:0.25876\n",
      "[137]\teval-logloss:0.25884\n",
      "[138]\teval-logloss:0.25867\n",
      "[139]\teval-logloss:0.25876\n",
      "[140]\teval-logloss:0.25987\n",
      "[141]\teval-logloss:0.25960\n",
      "[142]\teval-logloss:0.25982\n",
      "[143]\teval-logloss:0.25992\n",
      "[144]\teval-logloss:0.26035\n",
      "[145]\teval-logloss:0.26055\n",
      "[146]\teval-logloss:0.26092\n",
      "[147]\teval-logloss:0.26137\n",
      "[148]\teval-logloss:0.25999\n",
      "[149]\teval-logloss:0.26028\n",
      "[150]\teval-logloss:0.26048\n",
      "[151]\teval-logloss:0.26142\n",
      "[152]\teval-logloss:0.26188\n",
      "[153]\teval-logloss:0.26227\n",
      "[154]\teval-logloss:0.26287\n",
      "[155]\teval-logloss:0.26299\n",
      "[156]\teval-logloss:0.26346\n",
      "[157]\teval-logloss:0.26379\n",
      "[158]\teval-logloss:0.26306\n",
      "[159]\teval-logloss:0.26237\n",
      "[160]\teval-logloss:0.26251\n",
      "[161]\teval-logloss:0.26265\n",
      "[162]\teval-logloss:0.26264\n",
      "[163]\teval-logloss:0.26250\n",
      "[164]\teval-logloss:0.26264\n",
      "[165]\teval-logloss:0.26255\n",
      "[166]\teval-logloss:0.26188\n",
      "[167]\teval-logloss:0.26203\n",
      "[168]\teval-logloss:0.26190\n",
      "[169]\teval-logloss:0.26184\n",
      "[170]\teval-logloss:0.26133\n",
      "[171]\teval-logloss:0.26148\n",
      "[172]\teval-logloss:0.26157\n",
      "[173]\teval-logloss:0.26253\n",
      "[174]\teval-logloss:0.26229\n",
      "[175]\teval-logloss:0.26086\n",
      "[176]\teval-logloss:0.26103\n"
     ]
    }
   ],
   "source": [
    "# 또는 eval_list = [(dtr,'train'),(dval,'eval')] \n",
    "eval_list = [(dval,'eval')]\n",
    "\n",
    "xgb_model = xgb.train(params = params , dtrain=dtr , \n",
    "                        num_boost_round=num_rounds , \n",
    "                        early_stopping_rounds=50, \n",
    "                        evals=eval_list )\n"
   ]
  },
  {
   "cell_type": "code",
   "execution_count": 33,
   "id": "0042a903",
   "metadata": {},
   "outputs": [
    {
     "name": "stdout",
     "output_type": "stream",
     "text": [
      "predict( ) 수행 결과값을 10개만 표시, 예측 확률 값으로 표시됨\n",
      "[0.845 0.008 0.68  0.081 0.975 0.999 0.998 0.998 0.996 0.001]\n"
     ]
    }
   ],
   "source": [
    "pred_probs = xgb_model.predict(dtest)\n",
    "print('predict( ) 수행 결과값을 10개만 표시, 예측 확률 값으로 표시됨')\n",
    "print(np.round(pred_probs[:10],3))"
   ]
  },
  {
   "cell_type": "code",
   "execution_count": 34,
   "id": "7ca4af2e",
   "metadata": {},
   "outputs": [
    {
     "name": "stdout",
     "output_type": "stream",
     "text": [
      "예측값 10개만 표시: [1, 0, 1, 0, 1, 1, 1, 1, 1, 0]\n"
     ]
    }
   ],
   "source": [
    "preds = [ 1 if x > 0.5 else 0 for x in pred_probs ]\n",
    "print('예측값 10개만 표시:',preds[:10])"
   ]
  },
  {
   "cell_type": "code",
   "execution_count": 36,
   "id": "f0ca0ffc",
   "metadata": {},
   "outputs": [
    {
     "data": {
      "text/plain": [
       "0.956140350877193"
      ]
     },
     "execution_count": 36,
     "metadata": {},
     "output_type": "execute_result"
    }
   ],
   "source": [
    "from sklearn.metrics import accuracy_score\n",
    "\n",
    "accuracy_score(preds, y_test)"
   ]
  },
  {
   "cell_type": "code",
   "execution_count": 37,
   "id": "c042a44c",
   "metadata": {},
   "outputs": [
    {
     "data": {
      "image/png": "[encoded data removed]",
      "text/plain": [
       "<Figure size 1000x1200 with 1 Axes>"
      ]
     },
     "metadata": {},
     "output_type": "display_data"
    }
   ],
   "source": [
    "import matplotlib.pyplot as plt\n",
    "fig, ax = plt.subplots(figsize=(10, 12))\n",
    "plot_importance(xgb_model, ax=ax)\n",
    "plt.savefig('p239_xgb_feature_importance.tif', format='tif',\n",
    "             dpi=300, bbox_inches='tight')\n"
   ]
  },
  {
   "cell_type": "code",
   "execution_count": 39,
   "id": "3de2de35",
   "metadata": {
    "scrolled": false
   },
   "outputs": [
    {
     "name": "stdout",
     "output_type": "stream",
     "text": [
      "[0]\tvalidation_0-logloss:0.61619\n",
      "[50]\tvalidation_0-logloss:0.05020\n",
      "[100]\tvalidation_0-logloss:0.02115\n",
      "[150]\tvalidation_0-logloss:0.01404\n",
      "[200]\tvalidation_0-logloss:0.01188\n",
      "[250]\tvalidation_0-logloss:0.01086\n",
      "[300]\tvalidation_0-logloss:0.01004\n",
      "[350]\tvalidation_0-logloss:0.00942\n",
      "[400]\tvalidation_0-logloss:0.00885\n",
      "[450]\tvalidation_0-logloss:0.00857\n",
      "[500]\tvalidation_0-logloss:0.00831\n",
      "[550]\tvalidation_0-logloss:0.00830\n",
      "[597]\tvalidation_0-logloss:0.00830\n"
     ]
    }
   ],
   "source": [
    "from xgboost import XGBClassifier\n",
    "\n",
    "xgb_wrapper = XGBClassifier(n_estimators=1000,learning_rate=0.1, max_depth=3)\n",
    "\n",
    "evals = [(X_val, y_val)]\n",
    "\n",
    "xgb_wrapper.fit(X_train, y_train, early_stopping_rounds = 100,\n",
    "                eval_metric = \"logloss\", eval_set=evals, verbose=50)\n",
    "\n",
    "ws100_preds = xgb_wrapper.predict(X_test)\n",
    "ws100_pred_proba = xgb_wrapper.predict_proba(X_test)[:, 1]\n"
   ]
  },
  {
   "cell_type": "code",
   "execution_count": 54,
   "id": "5d625ea6",
   "metadata": {},
   "outputs": [
    {
     "data": {
      "text/plain": [
       "0.9736842105263158"
      ]
     },
     "execution_count": 54,
     "metadata": {},
     "output_type": "execute_result"
    }
   ],
   "source": [
    "accuracy_score(ws100_preds, y_test)"
   ]
  },
  {
   "cell_type": "code",
   "execution_count": 56,
   "id": "fab792d1",
   "metadata": {
    "scrolled": false
   },
   "outputs": [
    {
     "data": {
      "text/plain": [
       "array([[0.37, 0.63],\n",
       "       [0.96, 0.04],\n",
       "       [0.33, 0.67],\n",
       "       [0.58, 0.42],\n",
       "       [0.01, 0.99],\n",
       "       [0.  , 1.  ],\n",
       "       [0.  , 1.  ],\n",
       "       [0.02, 0.98],\n",
       "       [0.03, 0.97],\n",
       "       [1.  , 0.  ],\n",
       "       [0.93, 0.07],\n",
       "       [1.  , 0.  ],\n",
       "       [0.  , 1.  ],\n",
       "       [0.  , 1.  ],\n",
       "       [0.  , 1.  ],\n",
       "       [0.04, 0.96],\n",
       "       [0.12, 0.88],\n",
       "       [0.  , 1.  ],\n",
       "       [0.  , 1.  ],\n",
       "       [0.  , 1.  ],\n",
       "       [0.99, 0.01],\n",
       "       [0.59, 0.41],\n",
       "       [1.  , 0.  ],\n",
       "       [0.  , 1.  ],\n",
       "       [1.  , 0.  ],\n",
       "       [0.17, 0.83],\n",
       "       [0.99, 0.01],\n",
       "       [1.  , 0.  ],\n",
       "       [0.  , 1.  ],\n",
       "       [0.95, 0.05],\n",
       "       [0.01, 0.99],\n",
       "       [0.99, 0.01],\n",
       "       [0.05, 0.95],\n",
       "       [0.41, 0.59],\n",
       "       [0.83, 0.17],\n",
       "       [1.  , 0.  ],\n",
       "       [0.01, 0.99],\n",
       "       [0.01, 0.99],\n",
       "       [0.67, 0.33],\n",
       "       [0.01, 0.99],\n",
       "       [0.62, 0.38],\n",
       "       [0.05, 0.95],\n",
       "       [0.  , 1.  ],\n",
       "       [0.01, 0.99],\n",
       "       [0.  , 1.  ],\n",
       "       [0.21, 0.79],\n",
       "       [0.94, 0.06],\n",
       "       [0.  , 1.  ],\n",
       "       [0.  , 1.  ],\n",
       "       [0.02, 0.98],\n",
       "       [0.  , 1.  ],\n",
       "       [1.  , 0.  ],\n",
       "       [0.03, 0.97],\n",
       "       [0.  , 1.  ],\n",
       "       [0.01, 0.99],\n",
       "       [0.02, 0.98],\n",
       "       [0.  , 1.  ],\n",
       "       [0.07, 0.93],\n",
       "       [0.  , 1.  ],\n",
       "       [0.18, 0.82],\n",
       "       [0.  , 1.  ],\n",
       "       [0.22, 0.78],\n",
       "       [1.  , 0.  ],\n",
       "       [1.  , 0.  ],\n",
       "       [0.02, 0.98],\n",
       "       [0.08, 0.92],\n",
       "       [1.  , 0.  ],\n",
       "       [0.06, 0.94],\n",
       "       [0.02, 0.98],\n",
       "       [0.01, 0.99],\n",
       "       [1.  , 0.  ],\n",
       "       [0.  , 1.  ],\n",
       "       [0.99, 0.01],\n",
       "       [0.1 , 0.9 ],\n",
       "       [0.  , 1.  ],\n",
       "       [1.  , 0.  ],\n",
       "       [0.  , 1.  ],\n",
       "       [0.01, 0.99],\n",
       "       [0.01, 0.99],\n",
       "       [1.  , 0.  ],\n",
       "       [1.  , 0.  ],\n",
       "       [0.17, 0.83],\n",
       "       [0.  , 1.  ],\n",
       "       [0.  , 1.  ],\n",
       "       [0.01, 0.99],\n",
       "       [0.01, 0.99],\n",
       "       [0.11, 0.89],\n",
       "       [0.  , 1.  ],\n",
       "       [0.29, 0.71],\n",
       "       [1.  , 0.  ],\n",
       "       [0.54, 0.46],\n",
       "       [0.05, 0.95],\n",
       "       [1.  , 0.  ],\n",
       "       [1.  , 0.  ],\n",
       "       [0.  , 1.  ],\n",
       "       [0.88, 0.12],\n",
       "       [1.  , 0.  ],\n",
       "       [0.02, 0.98],\n",
       "       [1.  , 0.  ],\n",
       "       [0.24, 0.76],\n",
       "       [1.  , 0.  ],\n",
       "       [1.  , 0.  ],\n",
       "       [0.  , 1.  ],\n",
       "       [0.03, 0.97],\n",
       "       [0.36, 0.64],\n",
       "       [0.  , 1.  ],\n",
       "       [0.  , 1.  ],\n",
       "       [0.11, 0.89],\n",
       "       [0.  , 1.  ],\n",
       "       [0.01, 0.99],\n",
       "       [0.45, 0.55],\n",
       "       [0.  , 1.  ],\n",
       "       [0.08, 0.92],\n",
       "       [0.01, 0.99]])"
      ]
     },
     "execution_count": 56,
     "metadata": {},
     "output_type": "execute_result"
    }
   ],
   "source": [
    "rf_clf.predict_proba(X_test)"
   ]
  },
  {
   "cell_type": "code",
   "execution_count": 55,
   "id": "8664aaeb",
   "metadata": {},
   "outputs": [
    {
     "data": {
      "text/plain": [
       "array([9.5366740e-01, 3.2025124e-03, 8.9323640e-01, 6.6758581e-02,\n",
       "       9.9298263e-01, 9.9998701e-01, 9.9984455e-01, 9.9945050e-01,\n",
       "       9.9796933e-01, 4.9869235e-05, 9.6643984e-05, 8.3093095e-05,\n",
       "       9.9990010e-01, 9.9995375e-01, 9.9933428e-01, 9.9271250e-01,\n",
       "       9.9576473e-01, 9.9993229e-01, 9.9975103e-01, 9.9972874e-01,\n",
       "       7.9608447e-04, 6.0213381e-01, 8.5936299e-05, 9.9999011e-01,\n",
       "       1.4063076e-04, 8.1108606e-01, 2.5942482e-03, 1.2551177e-04,\n",
       "       9.9966979e-01, 4.2647649e-02, 9.9904436e-01, 1.9328872e-04,\n",
       "       9.9286228e-01, 8.1495374e-01, 1.8851623e-03, 4.1241925e-05,\n",
       "       9.9950004e-01, 9.9942493e-01, 3.3259061e-01, 9.9990726e-01,\n",
       "       2.0420003e-01, 9.9869078e-01, 9.9951839e-01, 9.9981660e-01,\n",
       "       9.9948907e-01, 9.8595530e-01, 8.5686827e-03, 9.9974221e-01,\n",
       "       9.9950874e-01, 9.9979335e-01, 9.9921131e-01, 1.6005318e-04,\n",
       "       9.9956661e-01, 9.9994481e-01, 9.9979180e-01, 9.9944371e-01,\n",
       "       9.9989831e-01, 9.9340701e-01, 9.9981338e-01, 9.8103106e-01,\n",
       "       9.9951375e-01, 9.7772592e-01, 4.2703992e-04, 6.6916423e-04,\n",
       "       9.9975389e-01, 9.9957901e-01, 5.0572428e-04, 9.9035245e-01,\n",
       "       9.9991786e-01, 9.9983013e-01, 2.1066080e-04, 9.9906474e-01,\n",
       "       2.0703391e-04, 9.9901855e-01, 9.9942881e-01, 1.4105380e-04,\n",
       "       9.9985802e-01, 9.9994326e-01, 9.9995863e-01, 3.8270729e-05,\n",
       "       7.1976036e-05, 9.9168479e-01, 9.9976987e-01, 9.9980718e-01,\n",
       "       9.9933773e-01, 9.9302739e-01, 9.9960536e-01, 9.9980456e-01,\n",
       "       9.9332523e-01, 8.3632061e-05, 1.5259977e-01, 9.9993145e-01,\n",
       "       6.3056970e-04, 1.7043223e-03, 9.9982941e-01, 1.7222089e-03,\n",
       "       5.5817193e-03, 9.9918610e-01, 1.4261150e-04, 7.3750180e-01,\n",
       "       3.2902572e-03, 3.0651505e-04, 9.9817634e-01, 9.9829739e-01,\n",
       "       4.4548491e-01, 9.9931180e-01, 9.9963427e-01, 9.9013221e-01,\n",
       "       9.9961996e-01, 9.9994576e-01, 7.0384097e-01, 9.9963534e-01,\n",
       "       9.9954635e-01, 9.9910033e-01], dtype=float32)"
      ]
     },
     "execution_count": 55,
     "metadata": {},
     "output_type": "execute_result"
    }
   ],
   "source": [
    "ws100_pred_proba"
   ]
  },
  {
   "cell_type": "code",
   "execution_count": 57,
   "id": "4b8fdb0d",
   "metadata": {},
   "outputs": [],
   "source": [
    "from sklearn.neighbors import KNeighborsClassifier\n",
    "from sklearn.ensemble import RandomForestClassifier\n",
    "from sklearn.ensemble import AdaBoostClassifier\n",
    "from sklearn.tree import DecisionTreeClassifier\n",
    "\n",
    "from sklearn.linear_model import LogisticRegression\n",
    "\n",
    "# 4개의 모델(KNN, RF, Ada, DT)를 통해 개별 예측을 하고 최종으로 Logistic 모델을 사용하여 예측 예정"
   ]
  },
  {
   "cell_type": "code",
   "execution_count": 58,
   "id": "8a4dcf2e",
   "metadata": {},
   "outputs": [],
   "source": [
    "import numpy as np\n",
    "from sklearn.datasets import load_breast_cancer\n",
    "from sklearn.model_selection import train_test_split\n",
    "from sklearn.metrics import accuracy_score\n",
    "cancer_data = load_breast_cancer()\n",
    "X_data = cancer_data.data\n",
    "y_label = cancer_data.target\n",
    "X_train , X_test , y_train , y_test = train_test_split(X_data ,y_label , test_size=0.2 , random_state=0)\n"
   ]
  },
  {
   "cell_type": "code",
   "execution_count": 59,
   "id": "03765bcb",
   "metadata": {},
   "outputs": [],
   "source": [
    "knn_clf = KNeighborsClassifier(n_neighbors=4)\n",
    "rf_clf = RandomForestClassifier(n_estimators=100, random_state=0)\n",
    "dt_clf = DecisionTreeClassifier()\n",
    "ada_clf = AdaBoostClassifier(n_estimators=100)\n",
    "\n",
    "# 최종 Stacking 모델을 위한 Classifier생성. \n",
    "lr_final = LogisticRegression(C=10)\n"
   ]
  },
  {
   "cell_type": "code",
   "execution_count": 60,
   "id": "313c8ef7",
   "metadata": {},
   "outputs": [
    {
     "data": {
      "text/html": [
       "<style>#sk-container-id-3 {color: black;background-color: white;}#sk-container-id-3 pre{padding: 0;}#sk-container-id-3 div.sk-toggleable {background-color: white;}#sk-container-id-3 label.sk-toggleable__label {cursor: pointer;display: block;width: 100%;margin-bottom: 0;padding: 0.3em;box-sizing: border-box;text-align: center;}#sk-container-id-3 label.sk-toggleable__label-arrow:before {content: \"▸\";float: left;margin-right: 0.25em;color: #696969;}#sk-container-id-3 label.sk-toggleable__label-arrow:hover:before {color: black;}#sk-container-id-3 div.sk-estimator:hover label.sk-toggleable__label-arrow:before {color: black;}#sk-container-id-3 div.sk-toggleable__content {max-height: 0;max-width: 0;overflow: hidden;text-align: left;background-color: #f0f8ff;}#sk-container-id-3 div.sk-toggleable__content pre {margin: 0.2em;color: black;border-radius: 0.25em;background-color: #f0f8ff;}#sk-container-id-3 input.sk-toggleable__control:checked~div.sk-toggleable__content {max-height: 200px;max-width: 100%;overflow: auto;}#sk-container-id-3 input.sk-toggleable__control:checked~label.sk-toggleable__label-arrow:before {content: \"▾\";}#sk-container-id-3 div.sk-estimator input.sk-toggleable__control:checked~label.sk-toggleable__label {background-color: #d4ebff;}#sk-container-id-3 div.sk-label input.sk-toggleable__control:checked~label.sk-toggleable__label {background-color: #d4ebff;}#sk-container-id-3 input.sk-hidden--visually {border: 0;clip: rect(1px 1px 1px 1px);clip: rect(1px, 1px, 1px, 1px);height: 1px;margin: -1px;overflow: hidden;padding: 0;position: absolute;width: 1px;}#sk-container-id-3 div.sk-estimator {font-family: monospace;background-color: #f0f8ff;border: 1px dotted black;border-radius: 0.25em;box-sizing: border-box;margin-bottom: 0.5em;}#sk-container-id-3 div.sk-estimator:hover {background-color: #d4ebff;}#sk-container-id-3 div.sk-parallel-item::after {content: \"\";width: 100%;border-bottom: 1px solid gray;flex-grow: 1;}#sk-container-id-3 div.sk-label:hover label.sk-toggleable__label {background-color: #d4ebff;}#sk-container-id-3 div.sk-serial::before {content: \"\";position: absolute;border-left: 1px solid gray;box-sizing: border-box;top: 0;bottom: 0;left: 50%;z-index: 0;}#sk-container-id-3 div.sk-serial {display: flex;flex-direction: column;align-items: center;background-color: white;padding-right: 0.2em;padding-left: 0.2em;position: relative;}#sk-container-id-3 div.sk-item {position: relative;z-index: 1;}#sk-container-id-3 div.sk-parallel {display: flex;align-items: stretch;justify-content: center;background-color: white;position: relative;}#sk-container-id-3 div.sk-item::before, #sk-container-id-3 div.sk-parallel-item::before {content: \"\";position: absolute;border-left: 1px solid gray;box-sizing: border-box;top: 0;bottom: 0;left: 50%;z-index: -1;}#sk-container-id-3 div.sk-parallel-item {display: flex;flex-direction: column;z-index: 1;position: relative;background-color: white;}#sk-container-id-3 div.sk-parallel-item:first-child::after {align-self: flex-end;width: 50%;}#sk-container-id-3 div.sk-parallel-item:last-child::after {align-self: flex-start;width: 50%;}#sk-container-id-3 div.sk-parallel-item:only-child::after {width: 0;}#sk-container-id-3 div.sk-dashed-wrapped {border: 1px dashed gray;margin: 0 0.4em 0.5em 0.4em;box-sizing: border-box;padding-bottom: 0.4em;background-color: white;}#sk-container-id-3 div.sk-label label {font-family: monospace;font-weight: bold;display: inline-block;line-height: 1.2em;}#sk-container-id-3 div.sk-label-container {text-align: center;}#sk-container-id-3 div.sk-container {/* jupyter's `normalize.less` sets `[hidden] { display: none; }` but bootstrap.min.css set `[hidden] { display: none !important; }` so we also need the `!important` here to be able to override the default hidden behavior on the sphinx rendered scikit-learn.org. See: https://github.com/scikit-learn/scikit-learn/issues/21755 */display: inline-block !important;position: relative;}#sk-container-id-3 div.sk-text-repr-fallback {display: none;}</style><div id=\"sk-container-id-3\" class=\"sk-top-container\"><div class=\"sk-text-repr-fallback\"><pre>AdaBoostClassifier(n_estimators=100)</pre><b>In a Jupyter environment, please rerun this cell to show the HTML representation or trust the notebook. <br />On GitHub, the HTML representation is unable to render, please try loading this page with nbviewer.org.</b></div><div class=\"sk-container\" hidden><div class=\"sk-item\"><div class=\"sk-estimator sk-toggleable\"><input class=\"sk-toggleable__control sk-hidden--visually\" id=\"sk-estimator-id-5\" type=\"checkbox\" checked><label for=\"sk-estimator-id-5\" class=\"sk-toggleable__label sk-toggleable__label-arrow\">AdaBoostClassifier</label><div class=\"sk-toggleable__content\"><pre>AdaBoostClassifier(n_estimators=100)</pre></div></div></div></div></div>"
      ],
      "text/plain": [
       "AdaBoostClassifier(n_estimators=100)"
      ]
     },
     "execution_count": 60,
     "metadata": {},
     "output_type": "execute_result"
    }
   ],
   "source": [
    "knn_clf.fit(X_train, y_train)\n",
    "rf_clf.fit(X_train , y_train)\n",
    "dt_clf.fit(X_train , y_train)\n",
    "ada_clf.fit(X_train, y_train)"
   ]
  },
  {
   "cell_type": "code",
   "execution_count": 61,
   "id": "94d7f782",
   "metadata": {},
   "outputs": [],
   "source": [
    "knn_pred = knn_clf.predict(X_test)\n",
    "rf_pred = rf_clf.predict(X_test)\n",
    "dt_pred = dt_clf.predict(X_test)\n",
    "ada_pred = ada_clf.predict(X_test)\n"
   ]
  },
  {
   "cell_type": "code",
   "execution_count": 62,
   "id": "70be0227",
   "metadata": {},
   "outputs": [
    {
     "data": {
      "text/plain": [
       "array([0, 1, 1, 0, 1, 1, 1, 1, 1, 1, 0, 1, 1, 0, 0, 0, 1, 0, 0, 0, 0, 0,\n",
       "       1, 1, 0, 1, 1, 1, 1, 0, 1, 0, 1, 0, 1, 0, 1, 0, 1, 0, 0, 1, 0, 1,\n",
       "       0, 0, 1, 1, 1, 0, 0, 1, 0, 1, 1, 1, 1, 1, 1, 0, 0, 0, 1, 1, 0, 1,\n",
       "       0, 0, 0, 1, 1, 0, 1, 1, 0, 1, 1, 1, 1, 1, 0, 0, 0, 1, 0, 1, 1, 1,\n",
       "       0, 0, 1, 0, 1, 0, 1, 1, 0, 1, 1, 1, 1, 1, 1, 1, 0, 1, 0, 0, 0, 0,\n",
       "       1, 0, 0, 1])"
      ]
     },
     "execution_count": 62,
     "metadata": {},
     "output_type": "execute_result"
    }
   ],
   "source": [
    "knn_pred"
   ]
  },
  {
   "cell_type": "code",
   "execution_count": 63,
   "id": "9adece73",
   "metadata": {},
   "outputs": [
    {
     "data": {
      "text/plain": [
       "array([0, 1, 1, 1, 1, 1, 1, 1, 1, 1, 0, 1, 1, 0, 0, 0, 1, 0, 0, 0, 0, 0,\n",
       "       1, 1, 0, 1, 1, 0, 1, 0, 1, 0, 1, 0, 1, 0, 1, 0, 1, 0, 0, 1, 0, 1,\n",
       "       1, 0, 1, 1, 1, 0, 0, 0, 0, 1, 1, 1, 1, 1, 1, 0, 0, 0, 1, 1, 0, 1,\n",
       "       0, 0, 0, 1, 1, 0, 1, 1, 0, 1, 1, 1, 1, 1, 0, 0, 0, 1, 0, 1, 1, 1,\n",
       "       0, 0, 1, 0, 1, 0, 1, 1, 0, 1, 1, 1, 1, 1, 1, 1, 0, 1, 0, 1, 0, 0,\n",
       "       1, 0, 0, 1])"
      ]
     },
     "execution_count": 63,
     "metadata": {},
     "output_type": "execute_result"
    }
   ],
   "source": [
    "rf_pred"
   ]
  },
  {
   "cell_type": "code",
   "execution_count": 64,
   "id": "1d5e3a06",
   "metadata": {},
   "outputs": [
    {
     "name": "stdout",
     "output_type": "stream",
     "text": [
      "KNN 정확도: 0.9211\n",
      "RF 정확도: 0.9649\n",
      "DT 정확도: 0.8947\n",
      "Ada 정확도: 0.9561 \n"
     ]
    }
   ],
   "source": [
    "print(f'KNN 정확도: {accuracy_score(y_test, knn_pred):.4f}')\n",
    "print(f'RF 정확도: {accuracy_score(y_test, rf_pred):.4f}')\n",
    "print(f'DT 정확도: {accuracy_score(y_test, dt_pred):.4f}')\n",
    "print(f'Ada 정확도: {accuracy_score(y_test, ada_pred):.4f} ')"
   ]
  },
  {
   "cell_type": "code",
   "execution_count": 65,
   "id": "089c7b9e",
   "metadata": {},
   "outputs": [
    {
     "name": "stdout",
     "output_type": "stream",
     "text": [
      "[[0 0 0 0]\n",
      " [1 1 1 1]\n",
      " [1 1 1 1]\n",
      " [0 1 0 1]\n",
      " [1 1 1 1]]\n",
      "(114, 4)\n"
     ]
    }
   ],
   "source": [
    "stacked_pred = np.array([knn_pred, rf_pred, dt_pred, ada_pred]).T\n",
    "\n",
    "print(stacked_pred[:5])\n",
    "print(stacked_pred.shape)\n"
   ]
  },
  {
   "cell_type": "code",
   "execution_count": 66,
   "id": "aac55456",
   "metadata": {},
   "outputs": [
    {
     "name": "stdout",
     "output_type": "stream",
     "text": [
      "최종 모델의 정확도: 0.9737\n"
     ]
    }
   ],
   "source": [
    "lr_final.fit(stacked_pred, y_test)\n",
    "final = lr_final.predict(stacked_pred)\n",
    "print(f'최종 모델의 정확도: {accuracy_score(y_test , final):.4f}')"
   ]
  },
  {
   "cell_type": "code",
   "execution_count": 69,
   "id": "cb43c064",
   "metadata": {},
   "outputs": [],
   "source": [
    "import seaborn as sns\n",
    "\n",
    "iris = sns.load_dataset('iris')"
   ]
  },
  {
   "cell_type": "code",
   "execution_count": 68,
   "id": "a32c83b4",
   "metadata": {},
   "outputs": [
    {
     "name": "stdout",
     "output_type": "stream",
     "text": [
      "인코딩 변환값 : [0 1 4 5 3 3 2 1]\n"
     ]
    }
   ],
   "source": [
    "from sklearn.preprocessing import LabelEncoder\n",
    "\n",
    "items = ['TV', '냉장고', '전자레인지', '컴퓨터', '선풍기', \n",
    "         '선풍기', '믹서', '냉장고']\n",
    "\n",
    "encoder = LabelEncoder()\n",
    "encoder.fit(items)\n",
    "labels = encoder.transform(items)\n",
    "print('인코딩 변환값 :', labels)\n"
   ]
  },
  {
   "cell_type": "code",
   "execution_count": 70,
   "id": "41310868",
   "metadata": {},
   "outputs": [],
   "source": [
    "encoder = LabelEncoder()\n",
    "encoder.fit(iris.iloc[:, -1])\n",
    "labels = encoder.transform(iris.iloc[:, -1])"
   ]
  },
  {
   "cell_type": "code",
   "execution_count": 71,
   "id": "15c9b878",
   "metadata": {},
   "outputs": [
    {
     "data": {
      "text/plain": [
       "array([0, 0, 0, 0, 0, 0, 0, 0, 0, 0, 0, 0, 0, 0, 0, 0, 0, 0, 0, 0, 0, 0,\n",
       "       0, 0, 0, 0, 0, 0, 0, 0, 0, 0, 0, 0, 0, 0, 0, 0, 0, 0, 0, 0, 0, 0,\n",
       "       0, 0, 0, 0, 0, 0, 1, 1, 1, 1, 1, 1, 1, 1, 1, 1, 1, 1, 1, 1, 1, 1,\n",
       "       1, 1, 1, 1, 1, 1, 1, 1, 1, 1, 1, 1, 1, 1, 1, 1, 1, 1, 1, 1, 1, 1,\n",
       "       1, 1, 1, 1, 1, 1, 1, 1, 1, 1, 1, 1, 2, 2, 2, 2, 2, 2, 2, 2, 2, 2,\n",
       "       2, 2, 2, 2, 2, 2, 2, 2, 2, 2, 2, 2, 2, 2, 2, 2, 2, 2, 2, 2, 2, 2,\n",
       "       2, 2, 2, 2, 2, 2, 2, 2, 2, 2, 2, 2, 2, 2, 2, 2, 2, 2])"
      ]
     },
     "execution_count": 71,
     "metadata": {},
     "output_type": "execute_result"
    }
   ],
   "source": [
    "labels"
   ]
  },
  {
   "cell_type": "code",
   "execution_count": null,
   "id": "0918088b",
   "metadata": {},
   "outputs": [],
   "source": []
  }
 ],
 "metadata": {
  "kernelspec": {
   "display_name": "Python 3 (ipykernel)",
   "language": "python",
   "name": "python3"
  },
  "language_info": {
   "codemirror_mode": {
    "name": "ipython",
    "version": 3
   },
   "file_extension": ".py",
   "mimetype": "text/x-python",
   "name": "python",
   "nbconvert_exporter": "python",
   "pygments_lexer": "ipython3",
   "version": "3.8.8"
  }
 },
 "nbformat": 4,
 "nbformat_minor": 5
}
