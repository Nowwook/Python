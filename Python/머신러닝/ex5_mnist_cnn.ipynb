{
 "cells": [
  {
   "cell_type": "markdown",
   "metadata": {
    "id": "iH57jsc8GAsB"
   },
   "source": [
    "# 이미지 인식의 꽃, CNN"
   ]
  },
  {
   "cell_type": "markdown",
   "metadata": {},
   "source": [
    "# mnist 숫자 분류, 기본 CNN 구현"
   ]
  },
  {
   "cell_type": "markdown",
   "metadata": {},
   "source": [
    "## mnist 데이터 분석"
   ]
  },
  {
   "cell_type": "code",
   "execution_count": 160,
   "metadata": {
    "executionInfo": {
     "elapsed": 321,
     "status": "ok",
     "timestamp": 1662138999159,
     "user": {
      "displayName": "경하김",
      "userId": "00010385631009285573"
     },
     "user_tz": -540
    },
    "id": "fjI-yhrvF2am"
   },
   "outputs": [],
   "source": [
    "from tensorflow.keras.models import Sequential\n",
    "from tensorflow.keras.layers import Dense\n",
    "\n",
    "from tensorflow.keras.callbacks import ModelCheckpoint, EarlyStopping\n",
    "from tensorflow.keras.datasets import mnist\n",
    "from tensorflow.keras.utils import to_categorical\n",
    "\n",
    "import matplotlib.pyplot as plt\n",
    "import numpy as np\n",
    "\n",
    "import sys"
   ]
  },
  {
   "cell_type": "code",
   "execution_count": 161,
   "metadata": {
    "executionInfo": {
     "elapsed": 544,
     "status": "ok",
     "timestamp": 1662139001225,
     "user": {
      "displayName": "경하김",
      "userId": "00010385631009285573"
     },
     "user_tz": -540
    },
    "id": "1bgz99dKGKst"
   },
   "outputs": [],
   "source": [
    "(X_train, y_train), (X_test, y_test) = mnist.load_data()"
   ]
  },
  {
   "cell_type": "code",
   "execution_count": 162,
   "metadata": {
    "colab": {
     "base_uri": "https://localhost:8080/"
    },
    "executionInfo": {
     "elapsed": 5,
     "status": "ok",
     "timestamp": 1662139002870,
     "user": {
      "displayName": "경하김",
      "userId": "00010385631009285573"
     },
     "user_tz": -540
    },
    "id": "q8hDXTIiGUok",
    "outputId": "2f6d55ab-a194-4da1-a7b2-aa2c47010b03"
   },
   "outputs": [
    {
     "name": "stdout",
     "output_type": "stream",
     "text": [
      "학습셋 이미지 수: 60000 개\n",
      "테스트셋 이미지 수: 10000 개\n"
     ]
    }
   ],
   "source": [
    "print(\"학습셋 이미지 수: %d 개\" % (X_train.shape[0]))\n",
    "print(\"테스트셋 이미지 수: %d 개\" % (X_test.shape[0]))"
   ]
  },
  {
   "cell_type": "code",
   "execution_count": 163,
   "metadata": {},
   "outputs": [
    {
     "data": {
      "text/plain": [
       "array([[  0,   0,   0,   0,   0,   0,   0,   0,   0,   0,   0,   0,   0,\n",
       "          0,   0,   0,   0,   0,   0,   0,   0,   0,   0,   0,   0,   0,\n",
       "          0,   0],\n",
       "       [  0,   0,   0,   0,   0,   0,   0,   0,   0,   0,   0,   0,   0,\n",
       "          0,   0,   0,   0,   0,   0,   0,   0,   0,   0,   0,   0,   0,\n",
       "          0,   0],\n",
       "       [  0,   0,   0,   0,   0,   0,   0,   0,   0,   0,   0,   0,   0,\n",
       "          0,   0,   0,   0,   0,   0,   0,   0,   0,   0,   0,   0,   0,\n",
       "          0,   0],\n",
       "       [  0,   0,   0,   0,   0,   0,   0,   0,   0,   0,   0,   0,   0,\n",
       "          0,   0,   0,   0,   0,   0,   0,   0,   0,   0,   0,   0,   0,\n",
       "          0,   0],\n",
       "       [  0,   0,   0,   0,   0,   0,   0,   0,   0,   0,   0,   0,   0,\n",
       "          0,   0,  51, 159, 253, 159,  50,   0,   0,   0,   0,   0,   0,\n",
       "          0,   0],\n",
       "       [  0,   0,   0,   0,   0,   0,   0,   0,   0,   0,   0,   0,   0,\n",
       "          0,  48, 238, 252, 252, 252, 237,   0,   0,   0,   0,   0,   0,\n",
       "          0,   0],\n",
       "       [  0,   0,   0,   0,   0,   0,   0,   0,   0,   0,   0,   0,   0,\n",
       "         54, 227, 253, 252, 239, 233, 252,  57,   6,   0,   0,   0,   0,\n",
       "          0,   0],\n",
       "       [  0,   0,   0,   0,   0,   0,   0,   0,   0,   0,   0,  10,  60,\n",
       "        224, 252, 253, 252, 202,  84, 252, 253, 122,   0,   0,   0,   0,\n",
       "          0,   0],\n",
       "       [  0,   0,   0,   0,   0,   0,   0,   0,   0,   0,   0, 163, 252,\n",
       "        252, 252, 253, 252, 252,  96, 189, 253, 167,   0,   0,   0,   0,\n",
       "          0,   0],\n",
       "       [  0,   0,   0,   0,   0,   0,   0,   0,   0,   0,  51, 238, 253,\n",
       "        253, 190, 114, 253, 228,  47,  79, 255, 168,   0,   0,   0,   0,\n",
       "          0,   0],\n",
       "       [  0,   0,   0,   0,   0,   0,   0,   0,   0,  48, 238, 252, 252,\n",
       "        179,  12,  75, 121,  21,   0,   0, 253, 243,  50,   0,   0,   0,\n",
       "          0,   0],\n",
       "       [  0,   0,   0,   0,   0,   0,   0,   0,  38, 165, 253, 233, 208,\n",
       "         84,   0,   0,   0,   0,   0,   0, 253, 252, 165,   0,   0,   0,\n",
       "          0,   0],\n",
       "       [  0,   0,   0,   0,   0,   0,   0,   7, 178, 252, 240,  71,  19,\n",
       "         28,   0,   0,   0,   0,   0,   0, 253, 252, 195,   0,   0,   0,\n",
       "          0,   0],\n",
       "       [  0,   0,   0,   0,   0,   0,   0,  57, 252, 252,  63,   0,   0,\n",
       "          0,   0,   0,   0,   0,   0,   0, 253, 252, 195,   0,   0,   0,\n",
       "          0,   0],\n",
       "       [  0,   0,   0,   0,   0,   0,   0, 198, 253, 190,   0,   0,   0,\n",
       "          0,   0,   0,   0,   0,   0,   0, 255, 253, 196,   0,   0,   0,\n",
       "          0,   0],\n",
       "       [  0,   0,   0,   0,   0,   0,  76, 246, 252, 112,   0,   0,   0,\n",
       "          0,   0,   0,   0,   0,   0,   0, 253, 252, 148,   0,   0,   0,\n",
       "          0,   0],\n",
       "       [  0,   0,   0,   0,   0,   0,  85, 252, 230,  25,   0,   0,   0,\n",
       "          0,   0,   0,   0,   0,   7, 135, 253, 186,  12,   0,   0,   0,\n",
       "          0,   0],\n",
       "       [  0,   0,   0,   0,   0,   0,  85, 252, 223,   0,   0,   0,   0,\n",
       "          0,   0,   0,   0,   7, 131, 252, 225,  71,   0,   0,   0,   0,\n",
       "          0,   0],\n",
       "       [  0,   0,   0,   0,   0,   0,  85, 252, 145,   0,   0,   0,   0,\n",
       "          0,   0,   0,  48, 165, 252, 173,   0,   0,   0,   0,   0,   0,\n",
       "          0,   0],\n",
       "       [  0,   0,   0,   0,   0,   0,  86, 253, 225,   0,   0,   0,   0,\n",
       "          0,   0, 114, 238, 253, 162,   0,   0,   0,   0,   0,   0,   0,\n",
       "          0,   0],\n",
       "       [  0,   0,   0,   0,   0,   0,  85, 252, 249, 146,  48,  29,  85,\n",
       "        178, 225, 253, 223, 167,  56,   0,   0,   0,   0,   0,   0,   0,\n",
       "          0,   0],\n",
       "       [  0,   0,   0,   0,   0,   0,  85, 252, 252, 252, 229, 215, 252,\n",
       "        252, 252, 196, 130,   0,   0,   0,   0,   0,   0,   0,   0,   0,\n",
       "          0,   0],\n",
       "       [  0,   0,   0,   0,   0,   0,  28, 199, 252, 252, 253, 252, 252,\n",
       "        233, 145,   0,   0,   0,   0,   0,   0,   0,   0,   0,   0,   0,\n",
       "          0,   0],\n",
       "       [  0,   0,   0,   0,   0,   0,   0,  25, 128, 252, 253, 252, 141,\n",
       "         37,   0,   0,   0,   0,   0,   0,   0,   0,   0,   0,   0,   0,\n",
       "          0,   0],\n",
       "       [  0,   0,   0,   0,   0,   0,   0,   0,   0,   0,   0,   0,   0,\n",
       "          0,   0,   0,   0,   0,   0,   0,   0,   0,   0,   0,   0,   0,\n",
       "          0,   0],\n",
       "       [  0,   0,   0,   0,   0,   0,   0,   0,   0,   0,   0,   0,   0,\n",
       "          0,   0,   0,   0,   0,   0,   0,   0,   0,   0,   0,   0,   0,\n",
       "          0,   0],\n",
       "       [  0,   0,   0,   0,   0,   0,   0,   0,   0,   0,   0,   0,   0,\n",
       "          0,   0,   0,   0,   0,   0,   0,   0,   0,   0,   0,   0,   0,\n",
       "          0,   0],\n",
       "       [  0,   0,   0,   0,   0,   0,   0,   0,   0,   0,   0,   0,   0,\n",
       "          0,   0,   0,   0,   0,   0,   0,   0,   0,   0,   0,   0,   0,\n",
       "          0,   0]], dtype=uint8)"
      ]
     },
     "execution_count": 163,
     "metadata": {},
     "output_type": "execute_result"
    }
   ],
   "source": [
    "X_train[1]"
   ]
  },
  {
   "cell_type": "code",
   "execution_count": 164,
   "metadata": {
    "colab": {
     "base_uri": "https://localhost:8080/",
     "height": 265
    },
    "executionInfo": {
     "elapsed": 412,
     "status": "ok",
     "timestamp": 1662139004618,
     "user": {
      "displayName": "경하김",
      "userId": "00010385631009285573"
     },
     "user_tz": -540
    },
    "id": "KL7nZJdfGvJ0",
    "outputId": "a151f452-5152-4a3f-cffb-35f72c1dcc01"
   },
   "outputs": [
    {
     "data": {
      "image/png": "[encoded data removed]",
      "text/plain": [
       "<Figure size 640x480 with 1 Axes>"
      ]
     },
     "metadata": {},
     "output_type": "display_data"
    }
   ],
   "source": [
    "plt.imshow(X_train[1], cmap='Greys')\n",
    "plt.show()"
   ]
  },
  {
   "cell_type": "markdown",
   "metadata": {},
   "source": [
    "- 글씨 데이터 확인"
   ]
  },
  {
   "cell_type": "code",
   "execution_count": 165,
   "metadata": {},
   "outputs": [
    {
     "data": {
      "image/png": "[encoded data removed]",
      "text/plain": [
       "<Figure size 640x480 with 12 Axes>"
      ]
     },
     "metadata": {},
     "output_type": "display_data"
    }
   ],
   "source": [
    "fig = plt.figure()  \n",
    "for i in range(1, 13): \n",
    "    # 2x2 블록 영역의 i 위치(1부터 시작)\n",
    "    subplot = fig.add_subplot(3, 4, i)\n",
    "    # x,y축 지점 표시 안함\n",
    "    subplot.set_xticks([])\n",
    "    subplot.set_yticks([])\n",
    "    # subplot 제목\n",
    "    subplot.set_title('%i' % y_test[i-1])   # ('image %i' % i)\n",
    "    # 입력으로 사용한 테스트 이미지를 28x28 구조로 재배열하고\n",
    "\n",
    "    # 그레이스케일 이미지 출력\n",
    "    subplot.imshow(X_test[i-1].reshape((28,28)), cmap=plt.cm.gray_r)\n",
    "plt.show()"
   ]
  },
  {
   "cell_type": "markdown",
   "metadata": {
    "id": "zpCHz-PnBkLu"
   },
   "source": [
    "# CNN 신경망 구조 실행"
   ]
  },
  {
   "cell_type": "markdown",
   "metadata": {
    "id": "jQztoIOhCbvS"
   },
   "source": [
    "## 필요 라이브러리 로딩"
   ]
  },
  {
   "cell_type": "code",
   "execution_count": 172,
   "metadata": {
    "executionInfo": {
     "elapsed": 6031,
     "status": "ok",
     "timestamp": 1662137909921,
     "user": {
      "displayName": "경하김",
      "userId": "00010385631009285573"
     },
     "user_tz": -540
    },
    "id": "P2V_0JJ1UDXt"
   },
   "outputs": [],
   "source": [
    "from tensorflow.keras.models import Sequential\n",
    "from tensorflow.keras.layers import Dense, Dropout, Flatten, Conv2D, MaxPooling2D\n",
    "from tensorflow.keras.callbacks import ModelCheckpoint, EarlyStopping\n",
    "from tensorflow.keras.datasets import mnist\n",
    "from tensorflow.keras.utils import to_categorical\n",
    "\n",
    "import matplotlib.pyplot as plt\n",
    "import numpy as np\n"
   ]
  },
  {
   "cell_type": "markdown",
   "metadata": {
    "id": "6o0ul6lECfAI"
   },
   "source": [
    "## 데이터 준비"
   ]
  },
  {
   "cell_type": "code",
   "execution_count": 173,
   "metadata": {
    "colab": {
     "base_uri": "https://localhost:8080/"
    },
    "executionInfo": {
     "elapsed": 898,
     "status": "ok",
     "timestamp": 1662137914103,
     "user": {
      "displayName": "경하김",
      "userId": "00010385631009285573"
     },
     "user_tz": -540
    },
    "id": "btW2qa_RCUrV",
    "outputId": "e7af64a6-4235-49a9-e04e-773436508056"
   },
   "outputs": [],
   "source": [
    "(X_train, y_train), (X_test, y_test) = mnist.load_data()\n",
    "X_train = X_train.reshape(X_train.shape[0], 28, 28, 1).astype('float32') / 255\n",
    "X_test = X_test.reshape(X_test.shape[0], 28, 28, 1).astype('float32') / 255\n",
    "y_train = to_categorical(y_train)\n",
    "y_test = to_categorical(y_test)"
   ]
  },
  {
   "cell_type": "code",
   "execution_count": 174,
   "metadata": {},
   "outputs": [
    {
     "data": {
      "text/plain": [
       "(60000, 28, 28, 1)"
      ]
     },
     "execution_count": 174,
     "metadata": {},
     "output_type": "execute_result"
    }
   ],
   "source": [
    "X_train.shape"
   ]
  },
  {
   "cell_type": "markdown",
   "metadata": {
    "id": "phFFu8y0DWcH"
   },
   "source": [
    "## CNN 모델 정의"
   ]
  },
  {
   "cell_type": "code",
   "execution_count": 177,
   "metadata": {},
   "outputs": [],
   "source": [
    "del CNN_model"
   ]
  },
  {
   "cell_type": "code",
   "execution_count": 178,
   "metadata": {
    "executionInfo": {
     "elapsed": 3543,
     "status": "ok",
     "timestamp": 1662137919759,
     "user": {
      "displayName": "경하김",
      "userId": "00010385631009285573"
     },
     "user_tz": -540
    },
    "id": "KeQFcsEDDJ8d"
   },
   "outputs": [
    {
     "name": "stdout",
     "output_type": "stream",
     "text": [
      "Model: \"sequential_7\"\n",
      "_________________________________________________________________\n",
      " Layer (type)                Output Shape              Param #   \n",
      "=================================================================\n",
      " conv2d_6 (Conv2D)           (None, 26, 26, 32)        320       \n",
      "                                                                 \n",
      " conv2d_7 (Conv2D)           (None, 23, 23, 64)        32832     \n",
      "                                                                 \n",
      " max_pooling2d_3 (MaxPooling  (None, 11, 11, 64)       0         \n",
      " 2D)                                                             \n",
      "                                                                 \n",
      " dropout_6 (Dropout)         (None, 11, 11, 64)        0         \n",
      "                                                                 \n",
      " flatten_3 (Flatten)         (None, 7744)              0         \n",
      "                                                                 \n",
      " dense_14 (Dense)            (None, 128)               991360    \n",
      "                                                                 \n",
      " dropout_7 (Dropout)         (None, 128)               0         \n",
      "                                                                 \n",
      " dense_15 (Dense)            (None, 10)                1290      \n",
      "                                                                 \n",
      "=================================================================\n",
      "Total params: 1,025,802\n",
      "Trainable params: 1,025,802\n",
      "Non-trainable params: 0\n",
      "_________________________________________________________________\n"
     ]
    }
   ],
   "source": [
    "CNN_model = Sequential()\n",
    "CNN_model.add(Conv2D(32, kernel_size=(3, 3), input_shape=(28, 28, 1), activation='relu')) # 32x3x3+32=320\n",
    "CNN_model.add(Conv2D(64, (4,4), activation='relu'))  # parameter 갯수 : 64x4x4x32+64 =32832 \n",
    "CNN_model.add(MaxPooling2D(pool_size=(2, 2)))\n",
    "CNN_model.add(Dropout(0.25))\n",
    "CNN_model.add(Flatten())\n",
    "CNN_model.add(Dense(128, activation='relu'))\n",
    "CNN_model.add(Dropout(0.25))\n",
    "CNN_model.add(Dense(10, activation='softmax'))\n",
    "CNN_model.summary()"
   ]
  },
  {
   "cell_type": "markdown",
   "metadata": {
    "id": "Ti_jUQ74EWRW"
   },
   "source": [
    "## 모델의 실행 옵션 설정"
   ]
  },
  {
   "cell_type": "code",
   "execution_count": 179,
   "metadata": {
    "executionInfo": {
     "elapsed": 347,
     "status": "ok",
     "timestamp": 1662137923853,
     "user": {
      "displayName": "경하김",
      "userId": "00010385631009285573"
     },
     "user_tz": -540
    },
    "id": "ZW4InzsZDrWU"
   },
   "outputs": [],
   "source": [
    "CNN_model.compile(loss='categorical_crossentropy', optimizer='adam', metrics=['accuracy'])"
   ]
  },
  {
   "cell_type": "markdown",
   "metadata": {
    "id": "OuaGlxGFEVqB"
   },
   "source": [
    "## 모델 최적화를 위한 설정"
   ]
  },
  {
   "cell_type": "code",
   "execution_count": 180,
   "metadata": {
    "executionInfo": {
     "elapsed": 317,
     "status": "ok",
     "timestamp": 1662137927852,
     "user": {
      "displayName": "경하김",
      "userId": "00010385631009285573"
     },
     "user_tz": -540
    },
    "id": "8ARDT9ZOEqfs"
   },
   "outputs": [],
   "source": [
    "# best 모델 저장 설정\n",
    "#modelpath = '/content/drive/MyDrive/KFQ_kdigital/강의ppt/3.딥러닝/exam/data/model/ch16-mnist_cnn.hdf5'\n",
    "modelpath = './models/ch14-mnist_cnn_best.hdf5'\n",
    "checkpointer = ModelCheckpoint(filepath=modelpath, monitor='val_loss', verbose=1, save_best_only=True)\n",
    "\n",
    "early_stopping_callback = EarlyStopping(monitor='val_loss', patience=10)"
   ]
  },
  {
   "cell_type": "markdown",
   "metadata": {
    "id": "GCbtkLSuFQH5"
   },
   "source": [
    "## 모델 실행"
   ]
  },
  {
   "cell_type": "code",
   "execution_count": 181,
   "metadata": {
    "colab": {
     "base_uri": "https://localhost:8080/"
    },
    "executionInfo": {
     "elapsed": 59247,
     "status": "ok",
     "timestamp": 1662137991053,
     "user": {
      "displayName": "경하김",
      "userId": "00010385631009285573"
     },
     "user_tz": -540
    },
    "id": "ih0xxEThE2Qc",
    "outputId": "470dafc5-6311-4e27-d9ff-5f7dca6c6d33"
   },
   "outputs": [
    {
     "name": "stdout",
     "output_type": "stream",
     "text": [
      "Epoch 1/30\n",
      "225/225 [==============================] - ETA: 0s - loss: 0.2577 - accuracy: 0.9199\n",
      "Epoch 1: val_loss improved from inf to 0.07027, saving model to ./models\\ch14-mnist_cnn_best.hdf5\n",
      "225/225 [==============================] - 4s 16ms/step - loss: 0.2577 - accuracy: 0.9199 - val_loss: 0.0703 - val_accuracy: 0.9793\n",
      "Epoch 2/30\n",
      "222/225 [============================>.] - ETA: 0s - loss: 0.0668 - accuracy: 0.9797\n",
      "Epoch 2: val_loss improved from 0.07027 to 0.05099, saving model to ./models\\ch14-mnist_cnn_best.hdf5\n",
      "225/225 [==============================] - 3s 11ms/step - loss: 0.0666 - accuracy: 0.9797 - val_loss: 0.0510 - val_accuracy: 0.9851\n",
      "Epoch 3/30\n",
      "225/225 [==============================] - ETA: 0s - loss: 0.0456 - accuracy: 0.9853\n",
      "Epoch 3: val_loss improved from 0.05099 to 0.04527, saving model to ./models\\ch14-mnist_cnn_best.hdf5\n",
      "225/225 [==============================] - 3s 11ms/step - loss: 0.0456 - accuracy: 0.9853 - val_loss: 0.0453 - val_accuracy: 0.9865\n",
      "Epoch 4/30\n",
      "223/225 [============================>.] - ETA: 0s - loss: 0.0353 - accuracy: 0.9887\n",
      "Epoch 4: val_loss improved from 0.04527 to 0.04179, saving model to ./models\\ch14-mnist_cnn_best.hdf5\n",
      "225/225 [==============================] - 3s 11ms/step - loss: 0.0354 - accuracy: 0.9887 - val_loss: 0.0418 - val_accuracy: 0.9878\n",
      "Epoch 5/30\n",
      "220/225 [============================>.] - ETA: 0s - loss: 0.0292 - accuracy: 0.9905\n",
      "Epoch 5: val_loss did not improve from 0.04179\n",
      "225/225 [==============================] - 3s 11ms/step - loss: 0.0291 - accuracy: 0.9905 - val_loss: 0.0437 - val_accuracy: 0.9871\n",
      "Epoch 6/30\n",
      "220/225 [============================>.] - ETA: 0s - loss: 0.0228 - accuracy: 0.9927\n",
      "Epoch 6: val_loss did not improve from 0.04179\n",
      "225/225 [==============================] - 3s 11ms/step - loss: 0.0228 - accuracy: 0.9926 - val_loss: 0.0476 - val_accuracy: 0.9865\n",
      "Epoch 7/30\n",
      "221/225 [============================>.] - ETA: 0s - loss: 0.0200 - accuracy: 0.9936\n",
      "Epoch 7: val_loss improved from 0.04179 to 0.03889, saving model to ./models\\ch14-mnist_cnn_best.hdf5\n",
      "225/225 [==============================] - 3s 12ms/step - loss: 0.0201 - accuracy: 0.9936 - val_loss: 0.0389 - val_accuracy: 0.9887\n",
      "Epoch 8/30\n",
      "224/225 [============================>.] - ETA: 0s - loss: 0.0171 - accuracy: 0.9943\n",
      "Epoch 8: val_loss did not improve from 0.03889\n",
      "225/225 [==============================] - 3s 12ms/step - loss: 0.0171 - accuracy: 0.9943 - val_loss: 0.0405 - val_accuracy: 0.9887\n",
      "Epoch 9/30\n",
      "222/225 [============================>.] - ETA: 0s - loss: 0.0151 - accuracy: 0.9949\n",
      "Epoch 9: val_loss did not improve from 0.03889\n",
      "225/225 [==============================] - 3s 12ms/step - loss: 0.0150 - accuracy: 0.9949 - val_loss: 0.0422 - val_accuracy: 0.9885\n",
      "Epoch 10/30\n",
      "225/225 [==============================] - ETA: 0s - loss: 0.0133 - accuracy: 0.9954\n",
      "Epoch 10: val_loss did not improve from 0.03889\n",
      "225/225 [==============================] - 3s 11ms/step - loss: 0.0133 - accuracy: 0.9954 - val_loss: 0.0439 - val_accuracy: 0.9891\n",
      "Epoch 11/30\n",
      "225/225 [==============================] - ETA: 0s - loss: 0.0120 - accuracy: 0.9960\n",
      "Epoch 11: val_loss did not improve from 0.03889\n",
      "225/225 [==============================] - 3s 11ms/step - loss: 0.0120 - accuracy: 0.9960 - val_loss: 0.0437 - val_accuracy: 0.9883\n",
      "Epoch 12/30\n",
      "221/225 [============================>.] - ETA: 0s - loss: 0.0124 - accuracy: 0.9957\n",
      "Epoch 12: val_loss did not improve from 0.03889\n",
      "225/225 [==============================] - 3s 11ms/step - loss: 0.0123 - accuracy: 0.9956 - val_loss: 0.0458 - val_accuracy: 0.9879\n",
      "Epoch 13/30\n",
      "221/225 [============================>.] - ETA: 0s - loss: 0.0102 - accuracy: 0.9966\n",
      "Epoch 13: val_loss did not improve from 0.03889\n",
      "225/225 [==============================] - 3s 11ms/step - loss: 0.0103 - accuracy: 0.9965 - val_loss: 0.0402 - val_accuracy: 0.9895\n",
      "Epoch 14/30\n",
      "225/225 [==============================] - ETA: 0s - loss: 0.0085 - accuracy: 0.9969\n",
      "Epoch 14: val_loss did not improve from 0.03889\n",
      "225/225 [==============================] - 3s 11ms/step - loss: 0.0085 - accuracy: 0.9969 - val_loss: 0.0424 - val_accuracy: 0.9902\n",
      "Epoch 15/30\n",
      "225/225 [==============================] - ETA: 0s - loss: 0.0098 - accuracy: 0.9968\n",
      "Epoch 15: val_loss did not improve from 0.03889\n",
      "225/225 [==============================] - 3s 11ms/step - loss: 0.0098 - accuracy: 0.9968 - val_loss: 0.0390 - val_accuracy: 0.9902\n",
      "Epoch 16/30\n",
      "221/225 [============================>.] - ETA: 0s - loss: 0.0075 - accuracy: 0.9975\n",
      "Epoch 16: val_loss did not improve from 0.03889\n",
      "225/225 [==============================] - 3s 11ms/step - loss: 0.0076 - accuracy: 0.9975 - val_loss: 0.0439 - val_accuracy: 0.9896\n",
      "Epoch 17/30\n",
      "223/225 [============================>.] - ETA: 0s - loss: 0.0083 - accuracy: 0.9972\n",
      "Epoch 17: val_loss did not improve from 0.03889\n",
      "225/225 [==============================] - 3s 11ms/step - loss: 0.0083 - accuracy: 0.9972 - val_loss: 0.0407 - val_accuracy: 0.9903\n"
     ]
    }
   ],
   "source": [
    "history = CNN_model.fit(X_train, y_train, validation_split=0.25, epochs=30, batch_size=200,  \\\n",
    "                    verbose=1, callbacks=[early_stopping_callback, checkpointer])"
   ]
  },
  {
   "cell_type": "markdown",
   "metadata": {
    "id": "m_iCb5YmFpi2"
   },
   "source": [
    "## 테스트 정확도"
   ]
  },
  {
   "cell_type": "code",
   "execution_count": 80,
   "metadata": {
    "colab": {
     "base_uri": "https://localhost:8080/"
    },
    "executionInfo": {
     "elapsed": 32764,
     "status": "ok",
     "timestamp": 1662138076141,
     "user": {
      "displayName": "경하김",
      "userId": "00010385631009285573"
     },
     "user_tz": -540
    },
    "id": "o-qOQlVVFl1N",
    "outputId": "9a7ae72e-a575-4284-c234-d46e74f032e7"
   },
   "outputs": [
    {
     "name": "stdout",
     "output_type": "stream",
     "text": [
      "313/313 [==============================] - 1s 3ms/step - loss: 0.0337 - accuracy: 0.9924\n",
      "Test Accuracy: 0.9924\n"
     ]
    }
   ],
   "source": [
    "print(\"Test Accuracy: %.4f\" % (CNN_model.evaluate(X_test, y_test)[1]))\n",
    "\n",
    "# 검증셋과 학습셋의 오차 저장\n",
    "y_vloss = history.history['val_loss']\n",
    "y_loss = history.history['loss']\n"
   ]
  },
  {
   "cell_type": "markdown",
   "metadata": {
    "id": "_A7jVi_eGHyY"
   },
   "source": [
    "## 그래프 그리기"
   ]
  },
  {
   "cell_type": "code",
   "execution_count": 81,
   "metadata": {
    "colab": {
     "base_uri": "https://localhost:8080/",
     "height": 279
    },
    "executionInfo": {
     "elapsed": 1287,
     "status": "ok",
     "timestamp": 1662138148664,
     "user": {
      "displayName": "경하김",
      "userId": "00010385631009285573"
     },
     "user_tz": -540
    },
    "id": "m9ySFO-iGNqO",
    "outputId": "2084ed69-865a-47f5-e231-98337f7029a6"
   },
   "outputs": [
    {
     "data": {
      "image/png": "[encoded data removed]",
      "text/plain": [
       "<Figure size 640x480 with 1 Axes>"
      ]
     },
     "metadata": {},
     "output_type": "display_data"
    }
   ],
   "source": [
    "x_len = np.arange(len(y_loss))\n",
    "plt.plot(x_len, y_vloss, marker=\".\", c=\"red\", label='Testset_loss')\n",
    "plt.plot(x_len, y_loss, marker=\".\", c=\"blue\", label='Trainset_loss')\n",
    "\n",
    "plt.legend(loc = 'upper right')\n",
    "plt.grid()\n",
    "plt.xlabel('epoch')\n",
    "plt.ylabel('loss')\n",
    "plt.show()\n"
   ]
  },
  {
   "cell_type": "markdown",
   "metadata": {
    "id": "g51Mr1dlGyHV"
   },
   "source": [
    "# 내가쓴 손글씨로 테스트"
   ]
  },
  {
   "cell_type": "code",
   "execution_count": 107,
   "metadata": {},
   "outputs": [],
   "source": [
    "import numpy as np\n",
    "from PIL import Image"
   ]
  },
  {
   "cell_type": "code",
   "execution_count": 127,
   "metadata": {},
   "outputs": [],
   "source": [
    "# image file의 경로 설정\n",
    "cur_dir = os.getcwd()\n",
    "img_path = os.path.join(cur_dir, './data_num/my_num2.png')\n",
    "# image file 읽기\n",
    "cur_img = Image.open(img_path)\n",
    "# 28x28로 resize\n",
    "cur_img = cur_img.resize((28, 28))\n",
    "image = np.asarray(cur_img)"
   ]
  },
  {
   "cell_type": "code",
   "execution_count": 128,
   "metadata": {},
   "outputs": [
    {
     "data": {
      "text/plain": [
       "<matplotlib.image.AxesImage at 0x1a5a5df1850>"
      ]
     },
     "execution_count": 128,
     "metadata": {},
     "output_type": "execute_result"
    },
    {
     "data": {
      "image/png": "[encoded data removed]",
      "text/plain": [
       "<Figure size 640x480 with 1 Axes>"
      ]
     },
     "metadata": {},
     "output_type": "display_data"
    }
   ],
   "source": [
    "# color image일 경우 RGB 평균값으로 gray scale로 변경\n",
    "try:\n",
    "  image = np.mean(image, axis=2)\n",
    "except:\n",
    "  pass\n",
    "\n",
    "# 화면에 출력하여 확인\n",
    "plt.imshow(image, cmap='gray')"
   ]
  },
  {
   "cell_type": "code",
   "execution_count": 129,
   "metadata": {},
   "outputs": [],
   "source": [
    "image = ((image / 255.) - 1) * -1\n",
    "\n",
    "test_data2 = np.reshape(image, (1, 28, 28))"
   ]
  },
  {
   "cell_type": "code",
   "execution_count": 130,
   "metadata": {},
   "outputs": [
    {
     "name": "stdout",
     "output_type": "stream",
     "text": [
      "1/1 [==============================] - 0s 12ms/step\n",
      "[[2.5270776e-14 1.3160735e-11 1.0000000e+00 1.1636692e-13 2.1348556e-17\n",
      "  1.6260628e-20 1.1704801e-14 2.4274927e-17 2.1669718e-15 5.3633724e-21]]\n",
      "1/1 [==============================] - 0s 11ms/step\n",
      "모델의 예측값 :  2\n"
     ]
    }
   ],
   "source": [
    "# 모델 예측\n",
    "# shape을 변경하여 학습된 model에 넣고 결과 확인\n",
    "\n",
    "print(CNN_model.predict(test_data2))\n",
    "print(\"모델의 예측값 : \", np.argmax(CNN_model.predict(test_data2)))"
   ]
  },
  {
   "cell_type": "markdown",
   "metadata": {},
   "source": [
    "# best model loading"
   ]
  },
  {
   "cell_type": "code",
   "execution_count": 131,
   "metadata": {},
   "outputs": [],
   "source": [
    "from tensorflow.keras.models import load_model\n",
    "modelpath = './models/ch14-mnist_cnn_best.hdf5'\n",
    "loaded_model = load_model(modelpath)"
   ]
  },
  {
   "cell_type": "code",
   "execution_count": 132,
   "metadata": {},
   "outputs": [
    {
     "name": "stdout",
     "output_type": "stream",
     "text": [
      "1/1 [==============================] - 0s 41ms/step\n",
      "[[1.8018691e-08 3.6797957e-07 9.9999964e-01 4.0370139e-08 7.9536394e-10\n",
      "  1.3857714e-12 4.1176580e-08 1.2912563e-10 3.6784256e-10 1.0149664e-12]]\n",
      "1/1 [==============================] - 0s 12ms/step\n",
      "모델의 예측값 :  2\n"
     ]
    }
   ],
   "source": [
    "print(loaded_model.predict(test_data2))\n",
    "print(\"모델의 예측값 : \", np.argmax(loaded_model.predict(test_data2)))"
   ]
  },
  {
   "cell_type": "code",
   "execution_count": null,
   "metadata": {},
   "outputs": [],
   "source": []
  }
 ],
 "metadata": {
  "accelerator": "GPU",
  "colab": {
   "authorship_tag": "ABX9TyOv/mJDYRiXtr3LEg6qVoAq",
   "collapsed_sections": [],
   "provenance": []
  },
  "gpuClass": "standard",
  "kernelspec": {
   "display_name": "cv_env",
   "language": "python",
   "name": "cv_env"
  },
  "language_info": {
   "codemirror_mode": {
    "name": "ipython",
    "version": 3
   },
   "file_extension": ".py",
   "mimetype": "text/x-python",
   "name": "python",
   "nbconvert_exporter": "python",
   "pygments_lexer": "ipython3",
   "version": "3.7.13"
  }
 },
 "nbformat": 4,
 "nbformat_minor": 4
}
